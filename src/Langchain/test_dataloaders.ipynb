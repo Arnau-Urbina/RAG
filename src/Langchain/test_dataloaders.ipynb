{
 "cells": [
  {
   "cell_type": "code",
   "execution_count": 4,
   "metadata": {},
   "outputs": [],
   "source": [
    "from langchain_community.document_loaders import UnstructuredPDFLoader, PyPDFLoader, PyMuPDFLoader\n",
    "import os\n",
    "\n",
    "#pdf2image\n",
    "#pdfminer"
   ]
  },
  {
   "cell_type": "code",
   "execution_count": 5,
   "metadata": {},
   "outputs": [
    {
     "data": {
      "text/plain": [
       "'..\\\\..\\\\Data\\\\input\\\\billionaires_page.pdf'"
      ]
     },
     "execution_count": 5,
     "metadata": {},
     "output_type": "execute_result"
    }
   ],
   "source": [
    "rute = os.path.join(\"..\", \"..\", \"Data\", \"input\", \"billionaires_page.pdf\")\n",
    "rute"
   ]
  },
  {
   "cell_type": "code",
   "execution_count": 10,
   "metadata": {},
   "outputs": [
    {
     "data": {
      "text/plain": [
       "{'source': '..\\\\..\\\\Data\\\\input\\\\billionaires_page.pdf', 'page': 0}"
      ]
     },
     "execution_count": 10,
     "metadata": {},
     "output_type": "execute_result"
    }
   ],
   "source": [
    "test2 = PyPDFLoader(rute).load()\n",
    "test2[0].metadata"
   ]
  },
  {
   "cell_type": "code",
   "execution_count": 14,
   "metadata": {},
   "outputs": [
    {
     "data": {
      "text/plain": [
       "{'source': '..\\\\..\\\\Data\\\\input\\\\billionaires_page.pdf',\n",
       " 'file_path': '..\\\\..\\\\Data\\\\input\\\\billionaires_page.pdf',\n",
       " 'page': 0,\n",
       " 'total_pages': 33,\n",
       " 'format': 'PDF 1.4',\n",
       " 'title': '',\n",
       " 'author': '',\n",
       " 'subject': '',\n",
       " 'keywords': '',\n",
       " 'creator': 'Mozilla/5.0 (Macintosh; Intel Mac OS X 10_15_7) AppleWebKit/537.36 (KHTML, like Gecko) Chrome/114.0.0.0 Safari/537.36',\n",
       " 'producer': 'Skia/PDF m114',\n",
       " 'creationDate': \"D:20230702063129+00'00'\",\n",
       " 'modDate': \"D:20230702063129+00'00'\",\n",
       " 'trapped': ''}"
      ]
     },
     "execution_count": 14,
     "metadata": {},
     "output_type": "execute_result"
    }
   ],
   "source": [
    "test3 = PyMuPDFLoader(rute).load()\n",
    "test3[0].metadata"
   ]
  },
  {
   "cell_type": "code",
   "execution_count": 13,
   "metadata": {},
   "outputs": [
    {
     "ename": "ValueError",
     "evalue": "Did not find mathpix_api_key, please add an environment variable `MATHPIX_API_KEY` which contains it, or pass `mathpix_api_key` as a named parameter.",
     "output_type": "error",
     "traceback": [
      "\u001b[1;31m---------------------------------------------------------------------------\u001b[0m",
      "\u001b[1;31mValueError\u001b[0m                                Traceback (most recent call last)",
      "Cell \u001b[1;32mIn[13], line 2\u001b[0m\n\u001b[0;32m      1\u001b[0m \u001b[38;5;28;01mfrom\u001b[39;00m \u001b[38;5;21;01mlangchain_community\u001b[39;00m\u001b[38;5;21;01m.\u001b[39;00m\u001b[38;5;21;01mdocument_loaders\u001b[39;00m \u001b[38;5;28;01mimport\u001b[39;00m MathpixPDFLoader\n\u001b[1;32m----> 2\u001b[0m loader \u001b[38;5;241m=\u001b[39m \u001b[43mMathpixPDFLoader\u001b[49m\u001b[43m(\u001b[49m\u001b[43mrute\u001b[49m\u001b[43m)\u001b[49m\n\u001b[0;32m      3\u001b[0m data \u001b[38;5;241m=\u001b[39m loader\u001b[38;5;241m.\u001b[39mload()\n\u001b[0;32m      4\u001b[0m data[\u001b[38;5;241m0\u001b[39m]\u001b[38;5;241m.\u001b[39mpage_content\n",
      "File \u001b[1;32mc:\\Users\\ebt1023\\AppData\\Local\\Programs\\Python\\Python312\\Lib\\site-packages\\langchain_community\\document_loaders\\pdf.py:418\u001b[0m, in \u001b[0;36mMathpixPDFLoader.__init__\u001b[1;34m(self, file_path, processed_file_format, max_wait_time_seconds, should_clean_pdf, extra_request_data, **kwargs)\u001b[0m\n\u001b[0;32m    398\u001b[0m \u001b[38;5;28;01mdef\u001b[39;00m \u001b[38;5;21m__init__\u001b[39m(\n\u001b[0;32m    399\u001b[0m     \u001b[38;5;28mself\u001b[39m,\n\u001b[0;32m    400\u001b[0m     file_path: \u001b[38;5;28mstr\u001b[39m,\n\u001b[1;32m   (...)\u001b[0m\n\u001b[0;32m    405\u001b[0m     \u001b[38;5;241m*\u001b[39m\u001b[38;5;241m*\u001b[39mkwargs: Any,\n\u001b[0;32m    406\u001b[0m ) \u001b[38;5;241m-\u001b[39m\u001b[38;5;241m>\u001b[39m \u001b[38;5;28;01mNone\u001b[39;00m:\n\u001b[0;32m    407\u001b[0m \u001b[38;5;250m    \u001b[39m\u001b[38;5;124;03m\"\"\"Initialize with a file path.\u001b[39;00m\n\u001b[0;32m    408\u001b[0m \n\u001b[0;32m    409\u001b[0m \u001b[38;5;124;03m    Args:\u001b[39;00m\n\u001b[1;32m   (...)\u001b[0m\n\u001b[0;32m    416\u001b[0m \u001b[38;5;124;03m        **kwargs: additional keyword arguments.\u001b[39;00m\n\u001b[0;32m    417\u001b[0m \u001b[38;5;124;03m    \"\"\"\u001b[39;00m\n\u001b[1;32m--> 418\u001b[0m     \u001b[38;5;28mself\u001b[39m\u001b[38;5;241m.\u001b[39mmathpix_api_key \u001b[38;5;241m=\u001b[39m \u001b[43mget_from_dict_or_env\u001b[49m\u001b[43m(\u001b[49m\n\u001b[0;32m    419\u001b[0m \u001b[43m        \u001b[49m\u001b[43mkwargs\u001b[49m\u001b[43m,\u001b[49m\u001b[43m \u001b[49m\u001b[38;5;124;43m\"\u001b[39;49m\u001b[38;5;124;43mmathpix_api_key\u001b[39;49m\u001b[38;5;124;43m\"\u001b[39;49m\u001b[43m,\u001b[49m\u001b[43m \u001b[49m\u001b[38;5;124;43m\"\u001b[39;49m\u001b[38;5;124;43mMATHPIX_API_KEY\u001b[39;49m\u001b[38;5;124;43m\"\u001b[39;49m\n\u001b[0;32m    420\u001b[0m \u001b[43m    \u001b[49m\u001b[43m)\u001b[49m\n\u001b[0;32m    421\u001b[0m     \u001b[38;5;28mself\u001b[39m\u001b[38;5;241m.\u001b[39mmathpix_api_id \u001b[38;5;241m=\u001b[39m get_from_dict_or_env(\n\u001b[0;32m    422\u001b[0m         kwargs, \u001b[38;5;124m\"\u001b[39m\u001b[38;5;124mmathpix_api_id\u001b[39m\u001b[38;5;124m\"\u001b[39m, \u001b[38;5;124m\"\u001b[39m\u001b[38;5;124mMATHPIX_API_ID\u001b[39m\u001b[38;5;124m\"\u001b[39m\n\u001b[0;32m    423\u001b[0m     )\n\u001b[0;32m    425\u001b[0m     \u001b[38;5;66;03m# The base class isn't expecting these and doesn't collect **kwargs\u001b[39;00m\n",
      "File \u001b[1;32mc:\\Users\\ebt1023\\AppData\\Local\\Programs\\Python\\Python312\\Lib\\site-packages\\langchain_core\\utils\\env.py:31\u001b[0m, in \u001b[0;36mget_from_dict_or_env\u001b[1;34m(data, key, env_key, default)\u001b[0m\n\u001b[0;32m     29\u001b[0m     \u001b[38;5;28;01mreturn\u001b[39;00m data[key]\n\u001b[0;32m     30\u001b[0m \u001b[38;5;28;01melse\u001b[39;00m:\n\u001b[1;32m---> 31\u001b[0m     \u001b[38;5;28;01mreturn\u001b[39;00m \u001b[43mget_from_env\u001b[49m\u001b[43m(\u001b[49m\u001b[43mkey\u001b[49m\u001b[43m,\u001b[49m\u001b[43m \u001b[49m\u001b[43menv_key\u001b[49m\u001b[43m,\u001b[49m\u001b[43m \u001b[49m\u001b[43mdefault\u001b[49m\u001b[38;5;241;43m=\u001b[39;49m\u001b[43mdefault\u001b[49m\u001b[43m)\u001b[49m\n",
      "File \u001b[1;32mc:\\Users\\ebt1023\\AppData\\Local\\Programs\\Python\\Python312\\Lib\\site-packages\\langchain_core\\utils\\env.py:41\u001b[0m, in \u001b[0;36mget_from_env\u001b[1;34m(key, env_key, default)\u001b[0m\n\u001b[0;32m     39\u001b[0m     \u001b[38;5;28;01mreturn\u001b[39;00m default\n\u001b[0;32m     40\u001b[0m \u001b[38;5;28;01melse\u001b[39;00m:\n\u001b[1;32m---> 41\u001b[0m     \u001b[38;5;28;01mraise\u001b[39;00m \u001b[38;5;167;01mValueError\u001b[39;00m(\n\u001b[0;32m     42\u001b[0m         \u001b[38;5;124mf\u001b[39m\u001b[38;5;124m\"\u001b[39m\u001b[38;5;124mDid not find \u001b[39m\u001b[38;5;132;01m{\u001b[39;00mkey\u001b[38;5;132;01m}\u001b[39;00m\u001b[38;5;124m, please add an environment variable\u001b[39m\u001b[38;5;124m\"\u001b[39m\n\u001b[0;32m     43\u001b[0m         \u001b[38;5;124mf\u001b[39m\u001b[38;5;124m\"\u001b[39m\u001b[38;5;124m `\u001b[39m\u001b[38;5;132;01m{\u001b[39;00menv_key\u001b[38;5;132;01m}\u001b[39;00m\u001b[38;5;124m` which contains it, or pass\u001b[39m\u001b[38;5;124m\"\u001b[39m\n\u001b[0;32m     44\u001b[0m         \u001b[38;5;124mf\u001b[39m\u001b[38;5;124m\"\u001b[39m\u001b[38;5;124m `\u001b[39m\u001b[38;5;132;01m{\u001b[39;00mkey\u001b[38;5;132;01m}\u001b[39;00m\u001b[38;5;124m` as a named parameter.\u001b[39m\u001b[38;5;124m\"\u001b[39m\n\u001b[0;32m     45\u001b[0m     )\n",
      "\u001b[1;31mValueError\u001b[0m: Did not find mathpix_api_key, please add an environment variable `MATHPIX_API_KEY` which contains it, or pass `mathpix_api_key` as a named parameter."
     ]
    }
   ],
   "source": [
    "from langchain_community.document_loaders import MathpixPDFLoader\n",
    "loader = MathpixPDFLoader(rute)\n",
    "data = loader.load()\n",
    "data[0].page_content"
   ]
  },
  {
   "cell_type": "code",
   "execution_count": null,
   "metadata": {},
   "outputs": [],
   "source": []
  },
  {
   "cell_type": "code",
   "execution_count": null,
   "metadata": {},
   "outputs": [],
   "source": []
  },
  {
   "cell_type": "markdown",
   "metadata": {},
   "source": [
    "### PARENT DOCUMENT RETIEVE"
   ]
  },
  {
   "cell_type": "code",
   "execution_count": 1,
   "metadata": {},
   "outputs": [],
   "source": [
    "from langchain_community.embeddings import HuggingFaceBgeEmbeddings\n",
    "from langchain_openai import OpenAIEmbeddings\n",
    "\n",
    "from langchain_community.vectorstores import FAISS \n",
    "\n",
    "from langchain.retrievers import ParentDocumentRetriever\n",
    "from langchain.storage import InMemoryStore\n",
    "\n",
    "from langchain_community.document_loaders import BSHTMLLoader\n",
    "from langchain_text_splitters import RecursiveCharacterTextSplitter\n",
    "\n",
    "import os"
   ]
  },
  {
   "cell_type": "code",
   "execution_count": 2,
   "metadata": {},
   "outputs": [],
   "source": [
    "def embedding(model_name): \n",
    "  encode_kwargs = {'normalize_embeddings': True} # set True to compute cosine similarity\n",
    "  if model_name == \"text-embedding-3-large\":\n",
    "     return OpenAIEmbeddings(model = model_name)\n",
    "  return HuggingFaceBgeEmbeddings(model_name = model_name, encode_kwargs = encode_kwargs)\n",
    "\n",
    "def data_loader(uploaded_file):\n",
    "  if uploaded_file[-4:] == 'html': \n",
    "    loader = BSHTMLLoader(uploaded_file, open_encoding='utf-8')\n",
    "    doc = loader.load()\n",
    "  elif uploaded_file[-3:] == \"pdf\":\n",
    "    loader = PyMuPDFLoader(uploaded_file)\n",
    "    doc = loader.load()\n",
    "  return doc "
   ]
  },
  {
   "cell_type": "code",
   "execution_count": 3,
   "metadata": {},
   "outputs": [
    {
     "data": {
      "text/plain": [
       "[[Document(page_content='\\n\\n\\n\\nCreate a fulfilment to authorize a service | Healthanea Documentation \\n\\n\\n\\n\\n\\n\\n\\n\\n\\n\\n\\n\\n\\n\\n\\n\\n\\n\\n\\n\\n\\n\\n\\n\\n\\n\\n\\n\\n\\n\\n\\n\\n\\n\\n\\n\\n\\n\\n\\n\\n\\n\\n\\n\\n\\n\\n\\n\\n\\n© DHP SAS\\n Version: 160211a-facd43ecf \\n\\n\\n\\n\\n\\n\\n\\n\\n\\n\\n\\n\\n\\n\\n\\n\\n\\n\\n\\nCreate a fulfilment to authorize a service\\nSee also the API specification (Swagger) and Error management\\n\\nSee also:\\n\\nConcept: Service fulfilment\\nAPI documentation: The Fulfilment API\\n\\nProducer Channel role: You use the Fulfilment API to create a fulfilment instance with which you authorize Service Providers to offer healthcare services to end-users.\\nService role: You use the Fulfilment API to register actions related to your service\\'s lifecycle within the context of the fulfilment instance. These can include actions performed by the end-user but also the read and write actions applied to the end-user\\'s health data.\\nThe Fulfilment API tracks the actions performed by the health services and the end-user, thus recording a customer health journey.\\n \\nIn this article:\\n\\nFulfilment API flow\\n1 - Create a fulfilment instance\\n2 - Add an action to the fulfilment instance\\n3 - Add context information to the fulfilment instance\\n4 - Get the properties of the fulfilment instance\\n5 - Get the payload of an action in a fulfilment instance\\nViewing requests in the API explorer\\n\\nFulfilment API flow\\nThe following diagram illustrates the flow of Fulfilment API usage:\\n \\n1 - Create a fulfilment instance\\n\\n\\nRole:\\nProducer Channel\\n\\n\\nHealthanea API:\\nFulfilment\\n\\n\\nMandatory/optional:\\nMandatory\\n\\n\\nIf you do not have one already, get a token for the Producer Channel role (see Authentication & tokens).\\nUse a POST on the fulfilment/instance endpoint to create a fulfilment instance:\\nPOST https://api-nxt.dhpbuild.com/api/dhp/v1/fulfilment/instance\\n\\nYou must include a request body that contains:\\n\\nA journeyId: A session identifier, managed by the Producer Channel, used to track one or more service executions for a single end-user during a single healthcare journey. (The maximum allowed length of the journeyId is 100 characters.)\\nA dhpUserId: The identifier of the end-user on the Healthanea platform.\\nA serviceId: The identifier of a specific health service to authorize to interact with the Healthanea platform.\\n(Optional) A deviceId: The identifier of the end-user\\'s device associated with the health journey. (The maximum allowed length of the deviceId is 100 characters.)\\n(Optional) A startDate: The start date and time of the fulfilment. This is used for asynchronous sending of fulfilment data to the Healthanea platform. See Sending service fulfilment data asynchronously.\\n\\nAn example of a request body is the following:\\n{\\n  \"journeyId\": \"{{journeyId}}\",\\n  \"dhpUserId\": \"{{dhpUserId}}\",\\n  \"serviceId\": \"{{serviceId}}\",\\n  \"deviceId\": \"{{deviceId}}\",\\n  \"startDate\": \"{{startDate}}\"\\n}\\n\\nIf the request is successful, Healthanea returns a 201 HTTP status code and a response body containing the new fulfilment ID:\\n{\\n   \"fulfilmentId\": \"{{fulfilmentId}}\"\\n}\\n\\n2 - Add an action to the fulfilment instance\\n\\n\\nRoles:\\nProducer Channel & Service\\n\\n\\nHealthanea API:\\nFulfilment\\n\\n\\nMandatory/optional:\\nOptional\\n\\n\\nIf you do not have one already, get a token for the Producer Channel role (see Authentication & tokens).\\nUse a POST on the fulfilment/instance/{fulfilmentId}/actions endpoint to add an action to the instance for the Healthanea platform to track:\\nPOST https://api-nxt.dhpbuild.com/api/dhp/v1/fulfilment/instance/{fulfilmentId}/actions\\n\\nIn the request URL, you must include a fulfilmentId, the identifier of the fulfilment instance to which to add the action.\\nYou must also include a request body that contains:\\n\\nAn actionTypeId: The identifier of the action type. The action type ID indicates the action \"template\"; when one is added to the fulfilment instance, a specific instance of the action is recorded.\\n(Optional) A payload: Any data associated with the action, structured as a valid JSON object.\\n(Optional) An actionDate: The date of the action; this is used for asynchronous sending of fulfilment data to the Healthanea platform. See Sending service fulfilment data asynchronously.\\n\\nAlthough actions are not mandatory, they give you a detailed view of how fulfilments progress. The more actions you push, the more you can record what the end-user is doing.\\nAn example of a request body is the following:\\n{\\n  \"actionTypeId\": \"{{actionTypeId}}\",\\n  \"payload\":\\n  {\\n    \"key0\": \"string-value\",\\n    \"key1\": 12\\n  },\\n  \"actionDate\": \"{{actionDate}}\"\\n}\\n\\nIf the request is successful, Healthanea returns a 204 HTTP status code to confirm that the action was added to the instance.\\n3 - Add context properties to the fulfilment instance\\n\\n\\nRoles:\\nProducer Channel & Service\\n\\n\\nHealthanea API:\\nFulfilment\\n\\n\\nMandatory/optional:\\nOptional\\n\\n\\nIf you do not have one already, get a token for the Producer Channel role (see Authentication & tokens).\\nUse a POST on the fulfilment/instance/{fulfilmentId}/context endpoint to add further information to the fulfilment instance to provide additional context:\\nPOST https://api-nxt.dhpbuild.com/api/dhp/v1/fulfilment/instance/{fulfilmentId}/context\\n\\nIn the request URL, you must include a fulfilmentId, the identifier of the fulfilment instance to which to add the context properties.\\nYou must also include a request body that contains a properties object containing one or more key-value pairs of name and value.  An example of a request body is the following:\\n{\\n  \"properties\": [\\n    {\\n      \"name\": \"{{name1}}\",\\n      \"value\": \"{{value}}\"\\n    },\\n    {\\n      \"name\": \"{{name2}}\",\\n      \"value\": \"{{value}}\"\\n    }\\n  ]\\n}\\n\\nIf the request is successful, Healthanea returns a 202 HTTP status code confirming that the context information was added to the fulfilment instance.\\n4 - Get the properties of the fulfilment instance\\n\\n\\nRoles:\\nProducer Channel & Service\\n\\n\\nHealthanea API:\\nFulfilment\\n\\n\\nMandatory/optional:\\nOptional\\n\\n\\nIf you do not have one already, get a token for the Producer Channel role (see Authentication & tokens).\\nUse a GET on the fulfilment/instance/{fulfilmentId} endpoint to read the properties of an existing fulfilment instance:\\nGET https://api-nxt.dhpbuild.com/api/dhp/v1/fulfilment/instance/{fulfilmentId}\\n\\nIn the request URL, you must include a fulfilmentId, the identifier of the fulfilment instance whose properties you want to retrieve.\\nIf the request is successful, Healthanea returns a 200 HTTP status code with a response payload containing the properties of the fulfilment instance in the following format:\\n{\\n  \"id\": \"{{id}}\",\\n  \"producerId\": \"{{producerId}}\",\\n  \"producerChannelId\": \"{{producerChannelId}}\",\\n  \"serviceId\": \"{{serviceId}}\",\\n  \"serviceProviderId\": \"{{serviceProviderId}}\",\\n  \"journeyId\": \"{{journeyId}}\",\\n  \"deviceId\": \"{{deviceId}}\",\\n  \"dhpUserId\": \"{{dhpUserId}}\",\\n  \"timestamp\": \"{{timestamp}}\",\\n  \"expirationTimestamp\": \"{{expirationTimestamp}}\",\\n  \"dataExchangeCompletionActionTypeIds\": [\\n    \"{{dataExchangeCompletionActionTypeId}}\"\\n  ]\\n}\\n\\n5 - Get the payload of an action in a fulfilment instance\\n\\n\\nRoles:\\nProducer Channel & Service\\n\\n\\nHealthanea API:\\nFulfilment\\n\\n\\nMandatory/optional:\\nOptional\\n\\n\\nIf you do not have one already, get a token for the Producer Channel role (see Authentication & tokens).\\nUse a GET on the fulfilment/instance/{fulfilmentId}/actions endpoint to get the payload of a specific action in a fulfilment instance:\\nGET https://api-nxt.dhpbuild.com/api/dhp/v1/fulfilment/instance/{fulfilmentId}/actions/{actionTypeId}\\n\\nIn the request URL, you must include:\\n\\nA fulfilmentId: The identifier of the fulfilment instance from which you want to get the action payload.\\nAn actionTypeId: The identifier of the action type.\\n\\nIf the request is successful, Healthanea returns a 200 HTTP status code and a response body containing the details of the action payload for the last action in the fulfilment having the specified action type ID:\\n{\\n  \"actionId\": \"{{actionId}}\",\\n  \"actionTypeId\": \"{{actionTypeId}}\",\\n  \"timeStamp\": \"{{timeStamp}}\",\\n  \"payload\": {}\\n}\\n\\nViewing requests in the API explorer\\nIn the Healthanea portal\\'s API explorer, you can review all the API requests that you executed above. This is useful to check that the operations completed successfully.\\n\\n\\n\\n\\n\\n\\n\\n\\n\\n\\nIn This Article\\n\\n\\n\\n\\n\\n\\n\\n\\n\\n\\nSearch Results for \\n\\n\\n\\n\\n\\n\\n\\n\\n\\n\\n\\n\\n\\n\\n\\n\\n\\n', metadata={'source': '..\\\\..\\\\Data\\\\input\\\\Create a fulfilment to authorize a service _ Healthanea Documentation.html', 'title': 'Create a fulfilment to authorize a service | Healthanea Documentation '})],\n",
       " [Document(page_content='\\n\\n\\n\\nCreate and retrieve DHP user IDs | Healthanea Documentation \\n\\n\\n\\n\\n\\n\\n\\n\\n\\n\\n\\n\\n\\n\\n\\n\\n\\n\\n\\n\\n\\n\\n\\n\\n\\n\\n\\n\\n\\n\\n\\n\\n\\n\\n\\n\\n\\n\\n\\n\\n\\n\\n\\n\\n\\n\\n\\n\\n\\n© DHP SAS\\n Version: 160211a-facd43ecf \\n\\n\\n\\n\\n\\n\\n\\n\\n\\n\\n\\n\\n\\n\\n\\n\\n\\n\\n\\nCreate and retrieve DHP user IDs\\nSee also the API specification (Swagger) and Error management\\n\\nSee also:\\n\\nConcept: User identification\\nAPI documentation: The Universal ID API\\n\\nProducer Channel role: You can use the Universal ID API to create and retrieve DHP user IDs, each of which is associated with one of the Producer\\'s user identifiers. This association can be maintained on the Healthanea platform or on the Producer\\'s IT systems.\\nThis tutorial relates to the Healthanea only user identification strategy, in which the mappings between DHP user IDs and Producer user IDs are stored on the Healthanea platform. Alternatively, it is possible to provide your own identifier (in UUID format) in any Healthanea API request requiring a DHP user ID; this is the Producer only strategy and does not involve the Universal ID API. See The Universal ID API.\\n\\nNote\\nBefore using the Healthanea only user identification strategy, we recommend\\nconsulting your Data Protection Officer (DPO) and/or compliance officer for validation.\\n\\nIn all cases, the DHP user ID alone can never be used by Healthanea to determine the true identity of the end-user. See User identification.\\n \\nIn this article:\\n\\nUniversal ID API flow\\n1 - Create a new DHP user ID from a Producer user ID\\n2 - Retrieve a DHP user ID associated with a Producer user ID\\nViewing requests in the API explorer\\n\\nUniversal ID API flow\\nThe following diagram illustrates the flow of Universal ID API usage:\\n \\n1 - Create a new DHP user ID from a Producer user ID\\n\\n\\nRole:\\nProducer Channel\\n\\n\\nHealthanea API:\\nUniversal ID\\n\\n\\nMandatory/optional:\\nOptional\\n\\n\\nIf you do not have one already, get a token for the Producer Channel role (see Authentication & tokens).\\nUse a POST on the universalid/uid endpoint to create a DHP user ID for a given end-user:\\nPOST https://api-nxt.dhpbuild.com/api/dhp/v1/universalid/uid\\n\\nYou must include a request body that contains:\\n\\nA producerUserId: The Producer\\'s identifier for the end-user.\\n\\nAn example of a request body is the following:\\n{\\n    \"producerUserId\": \"{{producerUserId}}\"\\n}\\n\\nIf the request is successful, Healthanea returns a 201 HTTP status code and a response body containing the new DHP user ID:\\n{\\n   \"dhpUserId\": \"{{dhpUserId}}\"\\n}\\n\\nNote that when you create a DHP user ID associated with a Producer user ID, the Location header is set to the GET call to retrieve it:\\nhttps://api-nxt.dhpbuild.com/api/universalid/v1/uid?producerUserId={{producerUserId}}\\n\\n2 - Retrieve a DHP user ID associated with a Producer user ID\\nRole:\\nProducer Channel\\n\\nHealthanea API:\\nUniversal ID\\n\\n\\nMandatory/optional:\\nOptional\\n\\nIf you do not have one already, get a token for the Producer Channel role (see Authentication & tokens).\\nUse a GET on the universalid/uid endpoint to retrieve an existing DHP user ID for a given end-user:\\nGET https://api-nxt.dhpbuild.com/api/dhp/v1/universalid/uid?producerUserId={{producerUserId}}\\n\\nIn the request URL, you must include:\\n\\nA producerUserId: An identifier for the end-user created and maintained by the Producer.\\n\\nIf the request is successful, Healthanea returns a 200 HTTP status code and a response body containing the associated DHP user ID:\\n{\\n   \"dhpUserId\": \"{{dhpUserId}}\"\\n}\\n\\nIf there is no record of the provided producerUserId on the Healthanea platform, the response will be a 404 HTTP status code. You can create a new DHP user ID associated with the Producer user ID as described in step 1.\\nViewing requests in the API explorer\\nIn the Healthanea portal\\'s API explorer, you can review all the API requests that you executed above. This is useful to check that the operations completed successfully.\\n\\n\\n\\n\\n\\n\\n\\n\\n\\n\\nIn This Article\\n\\n\\n\\n\\n\\n\\n\\n\\n\\n\\nSearch Results for \\n\\n\\n\\n\\n\\n\\n\\n\\n\\n\\n\\n\\n\\n\\n\\n\\n\\n', metadata={'source': '..\\\\..\\\\Data\\\\input\\\\Create and retrieve DHP user IDs _ Healthanea Documentation.html', 'title': 'Create and retrieve DHP user IDs | Healthanea Documentation '})]]"
      ]
     },
     "execution_count": 3,
     "metadata": {},
     "output_type": "execute_result"
    }
   ],
   "source": [
    "documents = []\n",
    "\n",
    "for uploaded_file in ['Create a fulfilment to authorize a service _ Healthanea Documentation.html', 'Create and retrieve DHP user IDs _ Healthanea Documentation.html']:\n",
    "    file_path = os.path.join('..', '..', 'Data', 'input', uploaded_file)\n",
    "    doc = data_loader(file_path)\n",
    "    documents.append(doc)\n",
    "\n",
    "documents"
   ]
  },
  {
   "cell_type": "code",
   "execution_count": 16,
   "metadata": {},
   "outputs": [],
   "source": [
    "def ParentDocument(documents, embeddings, k = 1):\n",
    "  \"\"\"The ParentDocumentRetriever strikes that balance by splitting and storing small chunks of data. \n",
    "  During retrieval, it first fetches the small chunks but then looks up the parent ids for those chunks and returns those larger documents.\"\"\"\n",
    "\n",
    "  parent_splitter = RecursiveCharacterTextSplitter(chunk_size = 2000)\n",
    "  child_splitter = RecursiveCharacterTextSplitter(chunk_size = 400)\n",
    "  vector = FAISS.from_texts([doc[0].page_content for doc in documents], embeddings)\n",
    "  store = InMemoryStore()\n",
    "\n",
    "  retriever = ParentDocumentRetriever(\n",
    "    vectorstore = vector,\n",
    "    docstore = store, \n",
    "    child_splitter = child_splitter,\n",
    "    parent_splitter = parent_splitter,\n",
    "    search_kwargs = {'k': k}\n",
    "  )\n",
    "  for doc in documents:\n",
    "    retriever.add_documents(doc, ids = None)\n",
    "  return retriever "
   ]
  },
  {
   "cell_type": "code",
   "execution_count": 17,
   "metadata": {},
   "outputs": [
    {
     "name": "stderr",
     "output_type": "stream",
     "text": [
      "c:\\Users\\ebt1023\\AppData\\Local\\Programs\\Python\\Python312\\Lib\\site-packages\\huggingface_hub\\file_download.py:1132: FutureWarning: `resume_download` is deprecated and will be removed in version 1.0.0. Downloads always resume when possible. If you want to force a new download, use `force_download=True`.\n",
      "  warnings.warn(\n"
     ]
    },
    {
     "data": {
      "text/plain": [
       "ParentDocumentRetriever(vectorstore=<langchain_community.vectorstores.faiss.FAISS object at 0x0000019A76A52270>, docstore=<langchain_core.stores.InMemoryBaseStore object at 0x0000019A76A53DD0>, search_kwargs={'k': 1}, child_splitter=<langchain_text_splitters.character.RecursiveCharacterTextSplitter object at 0x0000019A76A52360>, parent_splitter=<langchain_text_splitters.character.RecursiveCharacterTextSplitter object at 0x0000019A1F5F9160>)"
      ]
     },
     "execution_count": 17,
     "metadata": {},
     "output_type": "execute_result"
    }
   ],
   "source": [
    "embeddings = embedding('BAAI/bge-small-en-v1.5')\n",
    "\n",
    "pr = ParentDocument(documents, embeddings)\n",
    "pr"
   ]
  },
  {
   "cell_type": "code",
   "execution_count": 18,
   "metadata": {},
   "outputs": [
    {
     "data": {
      "text/plain": [
       "[Document(page_content='In the request URL, you must include a fulfilmentId, the identifier of the fulfilment instance to which to add the context properties.\\nYou must also include a request body that contains a properties object containing one or more key-value pairs of name and value.  An example of a request body is the following:\\n{\\n  \"properties\": [\\n    {\\n      \"name\": \"{{name1}}\",\\n      \"value\": \"{{value}}\"\\n    },\\n    {\\n      \"name\": \"{{name2}}\",\\n      \"value\": \"{{value}}\"\\n    }\\n  ]\\n}\\n\\nIf the request is successful, Healthanea returns a 202 HTTP status code confirming that the context information was added to the fulfilment instance.\\n4 - Get the properties of the fulfilment instance\\n\\n\\nRoles:\\nProducer Channel & Service\\n\\n\\nHealthanea API:\\nFulfilment\\n\\n\\nMandatory/optional:\\nOptional\\n\\n\\nIf you do not have one already, get a token for the Producer Channel role (see Authentication & tokens).\\nUse a GET on the fulfilment/instance/{fulfilmentId} endpoint to read the properties of an existing fulfilment instance:\\nGET https://api-nxt.dhpbuild.com/api/dhp/v1/fulfilment/instance/{fulfilmentId}\\n\\nIn the request URL, you must include a fulfilmentId, the identifier of the fulfilment instance whose properties you want to retrieve.\\nIf the request is successful, Healthanea returns a 200 HTTP status code with a response payload containing the properties of the fulfilment instance in the following format:\\n{\\n  \"id\": \"{{id}}\",\\n  \"producerId\": \"{{producerId}}\",\\n  \"producerChannelId\": \"{{producerChannelId}}\",\\n  \"serviceId\": \"{{serviceId}}\",\\n  \"serviceProviderId\": \"{{serviceProviderId}}\",\\n  \"journeyId\": \"{{journeyId}}\",\\n  \"deviceId\": \"{{deviceId}}\",\\n  \"dhpUserId\": \"{{dhpUserId}}\",\\n  \"timestamp\": \"{{timestamp}}\",\\n  \"expirationTimestamp\": \"{{expirationTimestamp}}\",\\n  \"dataExchangeCompletionActionTypeIds\": [\\n    \"{{dataExchangeCompletionActionTypeId}}\"\\n  ]\\n}\\n\\n5 - Get the payload of an action in a fulfilment instance\\n\\n\\nRoles:\\nProducer Channel & Service\\n\\n\\nHealthanea API:\\nFulfilment\\n\\n\\nMandatory/optional:\\nOptional', metadata={'source': '..\\\\..\\\\Data\\\\input\\\\Create a fulfilment to authorize a service _ Healthanea Documentation.html', 'title': 'Create a fulfilment to authorize a service | Healthanea Documentation '})]"
      ]
     },
     "execution_count": 18,
     "metadata": {},
     "output_type": "execute_result"
    }
   ],
   "source": [
    "pr.invoke(\"How can I get the properties of a fulfilment?\")"
   ]
  },
  {
   "cell_type": "code",
   "execution_count": 3,
   "metadata": {},
   "outputs": [
    {
     "data": {
      "text/plain": [
       "[Document(page_content='\\n\\n\\n\\nCreate a fulfilment to authorize a service | Healthanea Documentation \\n\\n\\n\\n\\n\\n\\n\\n\\n\\n\\n\\n\\n\\n\\n\\n\\n\\n\\n\\n\\n\\n\\n\\n\\n\\n\\n\\n\\n\\n\\n\\n\\n\\n\\n\\n\\n\\n\\n\\n\\n\\n\\n\\n\\n\\n\\n\\n\\n\\n© DHP SAS\\n Version: 160211a-facd43ecf \\n\\n\\n\\n\\n\\n\\n\\n\\n\\n\\n\\n\\n\\n\\n\\n\\n\\n\\n\\nCreate a fulfilment to authorize a service\\nSee also the API specification (Swagger) and Error management\\n\\nSee also:\\n\\nConcept: Service fulfilment\\nAPI documentation: The Fulfilment API\\n\\nProducer Channel role: You use the Fulfilment API to create a fulfilment instance with which you authorize Service Providers to offer healthcare services to end-users.\\nService role: You use the Fulfilment API to register actions related to your service\\'s lifecycle within the context of the fulfilment instance. These can include actions performed by the end-user but also the read and write actions applied to the end-user\\'s health data.\\nThe Fulfilment API tracks the actions performed by the health services and the end-user, thus recording a customer health journey.\\n \\nIn this article:\\n\\nFulfilment API flow\\n1 - Create a fulfilment instance\\n2 - Add an action to the fulfilment instance\\n3 - Add context information to the fulfilment instance\\n4 - Get the properties of the fulfilment instance\\n5 - Get the payload of an action in a fulfilment instance\\nViewing requests in the API explorer\\n\\nFulfilment API flow\\nThe following diagram illustrates the flow of Fulfilment API usage:\\n \\n1 - Create a fulfilment instance\\n\\n\\nRole:\\nProducer Channel\\n\\n\\nHealthanea API:\\nFulfilment\\n\\n\\nMandatory/optional:\\nMandatory\\n\\n\\nIf you do not have one already, get a token for the Producer Channel role (see Authentication & tokens).\\nUse a POST on the fulfilment/instance endpoint to create a fulfilment instance:\\nPOST https://api-nxt.dhpbuild.com/api/dhp/v1/fulfilment/instance\\n\\nYou must include a request body that contains:\\n\\nA journeyId: A session identifier, managed by the Producer Channel, used to track one or more service executions for a single end-user during a single healthcare journey. (The maximum allowed length of the journeyId is 100 characters.)\\nA dhpUserId: The identifier of the end-user on the Healthanea platform.\\nA serviceId: The identifier of a specific health service to authorize to interact with the Healthanea platform.\\n(Optional) A deviceId: The identifier of the end-user\\'s device associated with the health journey. (The maximum allowed length of the deviceId is 100 characters.)\\n(Optional) A startDate: The start date and time of the fulfilment. This is used for asynchronous sending of fulfilment data to the Healthanea platform. See Sending service fulfilment data asynchronously.\\n\\nAn example of a request body is the following:\\n{\\n  \"journeyId\": \"{{journeyId}}\",\\n  \"dhpUserId\": \"{{dhpUserId}}\",\\n  \"serviceId\": \"{{serviceId}}\",\\n  \"deviceId\": \"{{deviceId}}\",\\n  \"startDate\": \"{{startDate}}\"\\n}\\n\\nIf the request is successful, Healthanea returns a 201 HTTP status code and a response body containing the new fulfilment ID:\\n{\\n   \"fulfilmentId\": \"{{fulfilmentId}}\"\\n}\\n\\n2 - Add an action to the fulfilment instance\\n\\n\\nRoles:\\nProducer Channel & Service\\n\\n\\nHealthanea API:\\nFulfilment\\n\\n\\nMandatory/optional:\\nOptional\\n\\n\\nIf you do not have one already, get a token for the Producer Channel role (see Authentication & tokens).\\nUse a POST on the fulfilment/instance/{fulfilmentId}/actions endpoint to add an action to the instance for the Healthanea platform to track:\\nPOST https://api-nxt.dhpbuild.com/api/dhp/v1/fulfilment/instance/{fulfilmentId}/actions\\n\\nIn the request URL, you must include a fulfilmentId, the identifier of the fulfilment instance to which to add the action.\\nYou must also include a request body that contains:\\n\\nAn actionTypeId: The identifier of the action type. The action type ID indicates the action \"template\"; when one is added to the fulfilment instance, a specific instance of the action is recorded.\\n(Optional) A payload: Any data associated with the action, structured as a valid JSON object.\\n(Optional) An actionDate: The date of the action; this is used for asynchronous sending of fulfilment data to the Healthanea platform. See Sending service fulfilment data asynchronously.\\n\\nAlthough actions are not mandatory, they give you a detailed view of how fulfilments progress. The more actions you push, the more you can record what the end-user is doing.\\nAn example of a request body is the following:\\n{\\n  \"actionTypeId\": \"{{actionTypeId}}\",\\n  \"payload\":\\n  {\\n    \"key0\": \"string-value\",\\n    \"key1\": 12\\n  },\\n  \"actionDate\": \"{{actionDate}}\"\\n}\\n\\nIf the request is successful, Healthanea returns a 204 HTTP status code to confirm that the action was added to the instance.\\n3 - Add context properties to the fulfilment instance\\n\\n\\nRoles:\\nProducer Channel & Service\\n\\n\\nHealthanea API:\\nFulfilment\\n\\n\\nMandatory/optional:\\nOptional\\n\\n\\nIf you do not have one already, get a token for the Producer Channel role (see Authentication & tokens).\\nUse a POST on the fulfilment/instance/{fulfilmentId}/context endpoint to add further information to the fulfilment instance to provide additional context:\\nPOST https://api-nxt.dhpbuild.com/api/dhp/v1/fulfilment/instance/{fulfilmentId}/context\\n\\nIn the request URL, you must include a fulfilmentId, the identifier of the fulfilment instance to which to add the context properties.\\nYou must also include a request body that contains a properties object containing one or more key-value pairs of name and value.  An example of a request body is the following:\\n{\\n  \"properties\": [\\n    {\\n      \"name\": \"{{name1}}\",\\n      \"value\": \"{{value}}\"\\n    },\\n    {\\n      \"name\": \"{{name2}}\",\\n      \"value\": \"{{value}}\"\\n    }\\n  ]\\n}\\n\\nIf the request is successful, Healthanea returns a 202 HTTP status code confirming that the context information was added to the fulfilment instance.\\n4 - Get the properties of the fulfilment instance\\n\\n\\nRoles:\\nProducer Channel & Service\\n\\n\\nHealthanea API:\\nFulfilment\\n\\n\\nMandatory/optional:\\nOptional\\n\\n\\nIf you do not have one already, get a token for the Producer Channel role (see Authentication & tokens).\\nUse a GET on the fulfilment/instance/{fulfilmentId} endpoint to read the properties of an existing fulfilment instance:\\nGET https://api-nxt.dhpbuild.com/api/dhp/v1/fulfilment/instance/{fulfilmentId}\\n\\nIn the request URL, you must include a fulfilmentId, the identifier of the fulfilment instance whose properties you want to retrieve.\\nIf the request is successful, Healthanea returns a 200 HTTP status code with a response payload containing the properties of the fulfilment instance in the following format:\\n{\\n  \"id\": \"{{id}}\",\\n  \"producerId\": \"{{producerId}}\",\\n  \"producerChannelId\": \"{{producerChannelId}}\",\\n  \"serviceId\": \"{{serviceId}}\",\\n  \"serviceProviderId\": \"{{serviceProviderId}}\",\\n  \"journeyId\": \"{{journeyId}}\",\\n  \"deviceId\": \"{{deviceId}}\",\\n  \"dhpUserId\": \"{{dhpUserId}}\",\\n  \"timestamp\": \"{{timestamp}}\",\\n  \"expirationTimestamp\": \"{{expirationTimestamp}}\",\\n  \"dataExchangeCompletionActionTypeIds\": [\\n    \"{{dataExchangeCompletionActionTypeId}}\"\\n  ]\\n}\\n\\n5 - Get the payload of an action in a fulfilment instance\\n\\n\\nRoles:\\nProducer Channel & Service\\n\\n\\nHealthanea API:\\nFulfilment\\n\\n\\nMandatory/optional:\\nOptional\\n\\n\\nIf you do not have one already, get a token for the Producer Channel role (see Authentication & tokens).\\nUse a GET on the fulfilment/instance/{fulfilmentId}/actions endpoint to get the payload of a specific action in a fulfilment instance:\\nGET https://api-nxt.dhpbuild.com/api/dhp/v1/fulfilment/instance/{fulfilmentId}/actions/{actionTypeId}\\n\\nIn the request URL, you must include:\\n\\nA fulfilmentId: The identifier of the fulfilment instance from which you want to get the action payload.\\nAn actionTypeId: The identifier of the action type.\\n\\nIf the request is successful, Healthanea returns a 200 HTTP status code and a response body containing the details of the action payload for the last action in the fulfilment having the specified action type ID:\\n{\\n  \"actionId\": \"{{actionId}}\",\\n  \"actionTypeId\": \"{{actionTypeId}}\",\\n  \"timeStamp\": \"{{timeStamp}}\",\\n  \"payload\": {}\\n}\\n\\nViewing requests in the API explorer\\nIn the Healthanea portal\\'s API explorer, you can review all the API requests that you executed above. This is useful to check that the operations completed successfully.\\n\\n\\n\\n\\n\\n\\n\\n\\n\\n\\nIn This Article\\n\\n\\n\\n\\n\\n\\n\\n\\n\\n\\nSearch Results for \\n\\n\\n\\n\\n\\n\\n\\n\\n\\n\\n\\n\\n\\n\\n\\n\\n\\n', metadata={'source': '../../Data/input/Create a fulfilment to authorize a service _ Healthanea Documentation.html', 'title': 'Create a fulfilment to authorize a service | Healthanea Documentation '})]"
      ]
     },
     "execution_count": 3,
     "metadata": {},
     "output_type": "execute_result"
    }
   ],
   "source": [
    "loader = BSHTMLLoader('../../Data/input/Create a fulfilment to authorize a service _ Healthanea Documentation.html', open_encoding = 'utf-8')\n",
    "documents = loader.load()\n",
    "documents"
   ]
  },
  {
   "cell_type": "code",
   "execution_count": 4,
   "metadata": {},
   "outputs": [
    {
     "name": "stderr",
     "output_type": "stream",
     "text": [
      "c:\\Users\\ebt1023\\AppData\\Local\\Programs\\Python\\Python312\\Lib\\site-packages\\huggingface_hub\\file_download.py:1132: FutureWarning: `resume_download` is deprecated and will be removed in version 1.0.0. Downloads always resume when possible. If you want to force a new download, use `force_download=True`.\n",
      "  warnings.warn(\n"
     ]
    }
   ],
   "source": [
    "embeddings = embedding('BAAI/bge-small-en-v1.5')"
   ]
  },
  {
   "cell_type": "code",
   "execution_count": 12,
   "metadata": {},
   "outputs": [],
   "source": [
    "def ParentDocument(documents, embeddings, k):\n",
    "  \"\"\"The ParentDocumentRetriever strikes that balance by splitting and storing small chunks of data. \n",
    "  During retrieval, it first fetches the small chunks but then looks up the parent ids for those chunks and returns those larger documents.\"\"\"\n",
    "\n",
    "  parent_splitter = RecursiveCharacterTextSplitter(chunk_size = 2000)\n",
    "  child_splitter = RecursiveCharacterTextSplitter(chunk_size = 400)\n",
    "  vector = FAISS.from_texts([doc.page_content for doc in documents], embeddings)\n",
    "  store = InMemoryStore()\n",
    "\n",
    "  retriever = ParentDocumentRetriever(\n",
    "    vectorstore = vector,\n",
    "    docstore = store, \n",
    "    child_splitter = child_splitter,\n",
    "    parent_splitter = parent_splitter,\n",
    "    search_kwargs = {'k': k}\n",
    "  )\n",
    "  retriever.add_documents(documents, ids = None)\n",
    "  return retriever "
   ]
  },
  {
   "cell_type": "code",
   "execution_count": 13,
   "metadata": {},
   "outputs": [
    {
     "data": {
      "text/plain": [
       "[Document(page_content='In the request URL, you must include a fulfilmentId, the identifier of the fulfilment instance to which to add the context properties.\\nYou must also include a request body that contains a properties object containing one or more key-value pairs of name and value.  An example of a request body is the following:\\n{\\n  \"properties\": [\\n    {\\n      \"name\": \"{{name1}}\",\\n      \"value\": \"{{value}}\"\\n    },\\n    {\\n      \"name\": \"{{name2}}\",\\n      \"value\": \"{{value}}\"\\n    }\\n  ]\\n}\\n\\nIf the request is successful, Healthanea returns a 202 HTTP status code confirming that the context information was added to the fulfilment instance.\\n4 - Get the properties of the fulfilment instance\\n\\n\\nRoles:\\nProducer Channel & Service\\n\\n\\nHealthanea API:\\nFulfilment\\n\\n\\nMandatory/optional:\\nOptional\\n\\n\\nIf you do not have one already, get a token for the Producer Channel role (see Authentication & tokens).\\nUse a GET on the fulfilment/instance/{fulfilmentId} endpoint to read the properties of an existing fulfilment instance:\\nGET https://api-nxt.dhpbuild.com/api/dhp/v1/fulfilment/instance/{fulfilmentId}\\n\\nIn the request URL, you must include a fulfilmentId, the identifier of the fulfilment instance whose properties you want to retrieve.\\nIf the request is successful, Healthanea returns a 200 HTTP status code with a response payload containing the properties of the fulfilment instance in the following format:\\n{\\n  \"id\": \"{{id}}\",\\n  \"producerId\": \"{{producerId}}\",\\n  \"producerChannelId\": \"{{producerChannelId}}\",\\n  \"serviceId\": \"{{serviceId}}\",\\n  \"serviceProviderId\": \"{{serviceProviderId}}\",\\n  \"journeyId\": \"{{journeyId}}\",\\n  \"deviceId\": \"{{deviceId}}\",\\n  \"dhpUserId\": \"{{dhpUserId}}\",\\n  \"timestamp\": \"{{timestamp}}\",\\n  \"expirationTimestamp\": \"{{expirationTimestamp}}\",\\n  \"dataExchangeCompletionActionTypeIds\": [\\n    \"{{dataExchangeCompletionActionTypeId}}\"\\n  ]\\n}\\n\\n5 - Get the payload of an action in a fulfilment instance\\n\\n\\nRoles:\\nProducer Channel & Service\\n\\n\\nHealthanea API:\\nFulfilment\\n\\n\\nMandatory/optional:\\nOptional', metadata={'source': '../../Data/input/Create a fulfilment to authorize a service _ Healthanea Documentation.html', 'title': 'Create a fulfilment to authorize a service | Healthanea Documentation '})]"
      ]
     },
     "execution_count": 13,
     "metadata": {},
     "output_type": "execute_result"
    }
   ],
   "source": [
    "retriever = ParentDocument(documents, embeddings, 1).invoke(\"How can I get the properties of a fulfilment?\")\n",
    "retriever"
   ]
  },
  {
   "cell_type": "code",
   "execution_count": 14,
   "metadata": {},
   "outputs": [
    {
     "data": {
      "text/plain": [
       "1991"
      ]
     },
     "execution_count": 14,
     "metadata": {},
     "output_type": "execute_result"
    }
   ],
   "source": [
    "len(retriever[0].page_content)"
   ]
  },
  {
   "cell_type": "code",
   "execution_count": 6,
   "metadata": {},
   "outputs": [],
   "source": [
    "parent_splitter = RecursiveCharacterTextSplitter(chunk_size = 2000)\n",
    "child_splitter = RecursiveCharacterTextSplitter(chunk_size = 400)"
   ]
  },
  {
   "cell_type": "code",
   "execution_count": 8,
   "metadata": {},
   "outputs": [],
   "source": [
    "vector = FAISS.from_texts(documents[0].page_content, embeddings)\n",
    "store = InMemoryStore()"
   ]
  },
  {
   "cell_type": "code",
   "execution_count": 10,
   "metadata": {},
   "outputs": [],
   "source": [
    "retriever = ParentDocumentRetriever(\n",
    "  vectorstore = vector,\n",
    "  docstore = store, \n",
    "  child_splitter = child_splitter,\n",
    "  parent_splitter = parent_splitter,\n",
    "  search_kwargs = {'k': 1}\n",
    ")"
   ]
  },
  {
   "cell_type": "code",
   "execution_count": 11,
   "metadata": {},
   "outputs": [],
   "source": [
    "retriever.add_documents(documents, ids = None)"
   ]
  },
  {
   "cell_type": "code",
   "execution_count": 19,
   "metadata": {},
   "outputs": [
    {
     "data": {
      "text/plain": [
       "'{\\n  \"properties\": [\\n    {\\n      \"name\": \"{{name1}}\",\\n      \"value\": \"{{value}}\"\\n    },\\n    {\\n      \"name\": \"{{name2}}\",\\n      \"value\": \"{{value}}\"\\n    }\\n  ]\\n}'"
      ]
     },
     "execution_count": 19,
     "metadata": {},
     "output_type": "execute_result"
    }
   ],
   "source": [
    "pr2 = vector.similarity_search(\"How can I get the properties of a fulfilment?\")\n",
    "pr2[0].page_content"
   ]
  },
  {
   "cell_type": "code",
   "execution_count": 20,
   "metadata": {},
   "outputs": [
    {
     "data": {
      "text/plain": [
       "158"
      ]
     },
     "execution_count": 20,
     "metadata": {},
     "output_type": "execute_result"
    }
   ],
   "source": [
    "len(pr2[0].page_content)"
   ]
  },
  {
   "cell_type": "code",
   "execution_count": 15,
   "metadata": {},
   "outputs": [
    {
     "data": {
      "text/plain": [
       "'In the request URL, you must include a fulfilmentId, the identifier of the fulfilment instance to which to add the context properties.\\nYou must also include a request body that contains a properties object containing one or more key-value pairs of name and value.  An example of a request body is the following:\\n{\\n  \"properties\": [\\n    {\\n      \"name\": \"{{name1}}\",\\n      \"value\": \"{{value}}\"\\n    },\\n    {\\n      \"name\": \"{{name2}}\",\\n      \"value\": \"{{value}}\"\\n    }\\n  ]\\n}\\n\\nIf the request is successful, Healthanea returns a 202 HTTP status code confirming that the context information was added to the fulfilment instance.\\n4 - Get the properties of the fulfilment instance\\n\\n\\nRoles:\\nProducer Channel & Service\\n\\n\\nHealthanea API:\\nFulfilment\\n\\n\\nMandatory/optional:\\nOptional\\n\\n\\nIf you do not have one already, get a token for the Producer Channel role (see Authentication & tokens).\\nUse a GET on the fulfilment/instance/{fulfilmentId} endpoint to read the properties of an existing fulfilment instance:\\nGET https://api-nxt.dhpbuild.com/api/dhp/v1/fulfilment/instance/{fulfilmentId}\\n\\nIn the request URL, you must include a fulfilmentId, the identifier of the fulfilment instance whose properties you want to retrieve.\\nIf the request is successful, Healthanea returns a 200 HTTP status code with a response payload containing the properties of the fulfilment instance in the following format:\\n{\\n  \"id\": \"{{id}}\",\\n  \"producerId\": \"{{producerId}}\",\\n  \"producerChannelId\": \"{{producerChannelId}}\",\\n  \"serviceId\": \"{{serviceId}}\",\\n  \"serviceProviderId\": \"{{serviceProviderId}}\",\\n  \"journeyId\": \"{{journeyId}}\",\\n  \"deviceId\": \"{{deviceId}}\",\\n  \"dhpUserId\": \"{{dhpUserId}}\",\\n  \"timestamp\": \"{{timestamp}}\",\\n  \"expirationTimestamp\": \"{{expirationTimestamp}}\",\\n  \"dataExchangeCompletionActionTypeIds\": [\\n    \"{{dataExchangeCompletionActionTypeId}}\"\\n  ]\\n}\\n\\n5 - Get the payload of an action in a fulfilment instance\\n\\n\\nRoles:\\nProducer Channel & Service\\n\\n\\nHealthanea API:\\nFulfilment\\n\\n\\nMandatory/optional:\\nOptional'"
      ]
     },
     "execution_count": 15,
     "metadata": {},
     "output_type": "execute_result"
    }
   ],
   "source": [
    "pr = retriever.invoke(\"How can I get the properties of a fulfilment?\")\n",
    "pr[0].page_content"
   ]
  },
  {
   "cell_type": "code",
   "execution_count": 16,
   "metadata": {},
   "outputs": [
    {
     "data": {
      "text/plain": [
       "1991"
      ]
     },
     "execution_count": 16,
     "metadata": {},
     "output_type": "execute_result"
    }
   ],
   "source": [
    "len(pr[0].page_content)"
   ]
  },
  {
   "cell_type": "markdown",
   "metadata": {},
   "source": [
    "#### MultiQuery Retriever"
   ]
  },
  {
   "cell_type": "code",
   "execution_count": 1,
   "metadata": {},
   "outputs": [],
   "source": [
    "from langchain.retrievers.multi_query import MultiQueryRetriever\n",
    "from langchain_groq import ChatGroq\n",
    "from langchain_community.embeddings import HuggingFaceBgeEmbeddings\n",
    "\n",
    "from langchain_community.vectorstores import FAISS \n",
    "\n",
    "\n",
    "from langchain_community.document_loaders import BSHTMLLoader\n",
    "from langchain_text_splitters import RecursiveCharacterTextSplitter\n",
    "\n",
    "import os\n",
    "\n",
    "os.environ['GROQ_API_KEY'] = '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'"
   ]
  },
  {
   "cell_type": "code",
   "execution_count": 2,
   "metadata": {},
   "outputs": [],
   "source": [
    "def embedding(model_name): \n",
    "  encode_kwargs = {'normalize_embeddings': True} # set True to compute cosine similarity\n",
    "  if model_name == \"text-embedding-3-large\":\n",
    "     return OpenAIEmbeddings(model = model_name)\n",
    "  return HuggingFaceBgeEmbeddings(model_name = model_name, encode_kwargs = encode_kwargs)\n",
    "\n",
    "def data_loader(uploaded_file):\n",
    "  if uploaded_file[-4:] == 'html': \n",
    "    loader = BSHTMLLoader(uploaded_file, open_encoding='utf-8')\n",
    "    doc = loader.load()\n",
    "  elif uploaded_file[-3:] == \"pdf\":\n",
    "    loader = PyMuPDFLoader(uploaded_file)\n",
    "    doc = loader.load()\n",
    "  return doc "
   ]
  },
  {
   "cell_type": "code",
   "execution_count": 3,
   "metadata": {},
   "outputs": [
    {
     "data": {
      "text/plain": [
       "[Document(page_content='\\n\\n\\n\\nCreate a fulfilment to authorize a service | Healthanea Documentation \\n\\n\\n\\n\\n\\n\\n\\n\\n\\n\\n\\n\\n\\n\\n\\n\\n\\n\\n\\n\\n\\n\\n\\n\\n\\n\\n\\n\\n\\n\\n\\n\\n\\n\\n\\n\\n\\n\\n\\n\\n\\n\\n\\n\\n\\n\\n\\n\\n\\n© DHP SAS\\n Version: 160211a-facd43ecf \\n\\n\\n\\n\\n\\n\\n\\n\\n\\n\\n\\n\\n\\n\\n\\n\\n\\n\\n\\nCreate a fulfilment to authorize a service\\nSee also the API specification (Swagger) and Error management\\n\\nSee also:\\n\\nConcept: Service fulfilment\\nAPI documentation: The Fulfilment API\\n\\nProducer Channel role: You use the Fulfilment API to create a fulfilment instance with which you authorize Service Providers to offer healthcare services to end-users.\\nService role: You use the Fulfilment API to register actions related to your service\\'s lifecycle within the context of the fulfilment instance. These can include actions performed by the end-user but also the read and write actions applied to the end-user\\'s health data.\\nThe Fulfilment API tracks the actions performed by the health services and the end-user, thus recording a customer health journey.\\n \\nIn this article:\\n\\nFulfilment API flow\\n1 - Create a fulfilment instance\\n2 - Add an action to the fulfilment instance\\n3 - Add context information to the fulfilment instance\\n4 - Get the properties of the fulfilment instance\\n5 - Get the payload of an action in a fulfilment instance\\nViewing requests in the API explorer\\n\\nFulfilment API flow\\nThe following diagram illustrates the flow of Fulfilment API usage:\\n \\n1 - Create a fulfilment instance\\n\\n\\nRole:\\nProducer Channel\\n\\n\\nHealthanea API:\\nFulfilment\\n\\n\\nMandatory/optional:\\nMandatory\\n\\n\\nIf you do not have one already, get a token for the Producer Channel role (see Authentication & tokens).\\nUse a POST on the fulfilment/instance endpoint to create a fulfilment instance:\\nPOST https://api-nxt.dhpbuild.com/api/dhp/v1/fulfilment/instance\\n\\nYou must include a request body that contains:\\n\\nA journeyId: A session identifier, managed by the Producer Channel, used to track one or more service executions for a single end-user during a single healthcare journey. (The maximum allowed length of the journeyId is 100 characters.)\\nA dhpUserId: The identifier of the end-user on the Healthanea platform.\\nA serviceId: The identifier of a specific health service to authorize to interact with the Healthanea platform.\\n(Optional) A deviceId: The identifier of the end-user\\'s device associated with the health journey. (The maximum allowed length of the deviceId is 100 characters.)\\n(Optional) A startDate: The start date and time of the fulfilment. This is used for asynchronous sending of fulfilment data to the Healthanea platform. See Sending service fulfilment data asynchronously.\\n\\nAn example of a request body is the following:\\n{\\n  \"journeyId\": \"{{journeyId}}\",\\n  \"dhpUserId\": \"{{dhpUserId}}\",\\n  \"serviceId\": \"{{serviceId}}\",\\n  \"deviceId\": \"{{deviceId}}\",\\n  \"startDate\": \"{{startDate}}\"\\n}\\n\\nIf the request is successful, Healthanea returns a 201 HTTP status code and a response body containing the new fulfilment ID:\\n{\\n   \"fulfilmentId\": \"{{fulfilmentId}}\"\\n}\\n\\n2 - Add an action to the fulfilment instance\\n\\n\\nRoles:\\nProducer Channel & Service\\n\\n\\nHealthanea API:\\nFulfilment\\n\\n\\nMandatory/optional:\\nOptional\\n\\n\\nIf you do not have one already, get a token for the Producer Channel role (see Authentication & tokens).\\nUse a POST on the fulfilment/instance/{fulfilmentId}/actions endpoint to add an action to the instance for the Healthanea platform to track:\\nPOST https://api-nxt.dhpbuild.com/api/dhp/v1/fulfilment/instance/{fulfilmentId}/actions\\n\\nIn the request URL, you must include a fulfilmentId, the identifier of the fulfilment instance to which to add the action.\\nYou must also include a request body that contains:\\n\\nAn actionTypeId: The identifier of the action type. The action type ID indicates the action \"template\"; when one is added to the fulfilment instance, a specific instance of the action is recorded.\\n(Optional) A payload: Any data associated with the action, structured as a valid JSON object.\\n(Optional) An actionDate: The date of the action; this is used for asynchronous sending of fulfilment data to the Healthanea platform. See Sending service fulfilment data asynchronously.\\n\\nAlthough actions are not mandatory, they give you a detailed view of how fulfilments progress. The more actions you push, the more you can record what the end-user is doing.\\nAn example of a request body is the following:\\n{\\n  \"actionTypeId\": \"{{actionTypeId}}\",\\n  \"payload\":\\n  {\\n    \"key0\": \"string-value\",\\n    \"key1\": 12\\n  },\\n  \"actionDate\": \"{{actionDate}}\"\\n}\\n\\nIf the request is successful, Healthanea returns a 204 HTTP status code to confirm that the action was added to the instance.\\n3 - Add context properties to the fulfilment instance\\n\\n\\nRoles:\\nProducer Channel & Service\\n\\n\\nHealthanea API:\\nFulfilment\\n\\n\\nMandatory/optional:\\nOptional\\n\\n\\nIf you do not have one already, get a token for the Producer Channel role (see Authentication & tokens).\\nUse a POST on the fulfilment/instance/{fulfilmentId}/context endpoint to add further information to the fulfilment instance to provide additional context:\\nPOST https://api-nxt.dhpbuild.com/api/dhp/v1/fulfilment/instance/{fulfilmentId}/context\\n\\nIn the request URL, you must include a fulfilmentId, the identifier of the fulfilment instance to which to add the context properties.\\nYou must also include a request body that contains a properties object containing one or more key-value pairs of name and value.  An example of a request body is the following:\\n{\\n  \"properties\": [\\n    {\\n      \"name\": \"{{name1}}\",\\n      \"value\": \"{{value}}\"\\n    },\\n    {\\n      \"name\": \"{{name2}}\",\\n      \"value\": \"{{value}}\"\\n    }\\n  ]\\n}\\n\\nIf the request is successful, Healthanea returns a 202 HTTP status code confirming that the context information was added to the fulfilment instance.\\n4 - Get the properties of the fulfilment instance\\n\\n\\nRoles:\\nProducer Channel & Service\\n\\n\\nHealthanea API:\\nFulfilment\\n\\n\\nMandatory/optional:\\nOptional\\n\\n\\nIf you do not have one already, get a token for the Producer Channel role (see Authentication & tokens).\\nUse a GET on the fulfilment/instance/{fulfilmentId} endpoint to read the properties of an existing fulfilment instance:\\nGET https://api-nxt.dhpbuild.com/api/dhp/v1/fulfilment/instance/{fulfilmentId}\\n\\nIn the request URL, you must include a fulfilmentId, the identifier of the fulfilment instance whose properties you want to retrieve.\\nIf the request is successful, Healthanea returns a 200 HTTP status code with a response payload containing the properties of the fulfilment instance in the following format:\\n{\\n  \"id\": \"{{id}}\",\\n  \"producerId\": \"{{producerId}}\",\\n  \"producerChannelId\": \"{{producerChannelId}}\",\\n  \"serviceId\": \"{{serviceId}}\",\\n  \"serviceProviderId\": \"{{serviceProviderId}}\",\\n  \"journeyId\": \"{{journeyId}}\",\\n  \"deviceId\": \"{{deviceId}}\",\\n  \"dhpUserId\": \"{{dhpUserId}}\",\\n  \"timestamp\": \"{{timestamp}}\",\\n  \"expirationTimestamp\": \"{{expirationTimestamp}}\",\\n  \"dataExchangeCompletionActionTypeIds\": [\\n    \"{{dataExchangeCompletionActionTypeId}}\"\\n  ]\\n}\\n\\n5 - Get the payload of an action in a fulfilment instance\\n\\n\\nRoles:\\nProducer Channel & Service\\n\\n\\nHealthanea API:\\nFulfilment\\n\\n\\nMandatory/optional:\\nOptional\\n\\n\\nIf you do not have one already, get a token for the Producer Channel role (see Authentication & tokens).\\nUse a GET on the fulfilment/instance/{fulfilmentId}/actions endpoint to get the payload of a specific action in a fulfilment instance:\\nGET https://api-nxt.dhpbuild.com/api/dhp/v1/fulfilment/instance/{fulfilmentId}/actions/{actionTypeId}\\n\\nIn the request URL, you must include:\\n\\nA fulfilmentId: The identifier of the fulfilment instance from which you want to get the action payload.\\nAn actionTypeId: The identifier of the action type.\\n\\nIf the request is successful, Healthanea returns a 200 HTTP status code and a response body containing the details of the action payload for the last action in the fulfilment having the specified action type ID:\\n{\\n  \"actionId\": \"{{actionId}}\",\\n  \"actionTypeId\": \"{{actionTypeId}}\",\\n  \"timeStamp\": \"{{timeStamp}}\",\\n  \"payload\": {}\\n}\\n\\nViewing requests in the API explorer\\nIn the Healthanea portal\\'s API explorer, you can review all the API requests that you executed above. This is useful to check that the operations completed successfully.\\n\\n\\n\\n\\n\\n\\n\\n\\n\\n\\nIn This Article\\n\\n\\n\\n\\n\\n\\n\\n\\n\\n\\nSearch Results for \\n\\n\\n\\n\\n\\n\\n\\n\\n\\n\\n\\n\\n\\n\\n\\n\\n\\n', metadata={'source': '../../Data/input/Create a fulfilment to authorize a service _ Healthanea Documentation.html', 'title': 'Create a fulfilment to authorize a service | Healthanea Documentation '})]"
      ]
     },
     "execution_count": 3,
     "metadata": {},
     "output_type": "execute_result"
    }
   ],
   "source": [
    "loader = BSHTMLLoader('../../Data/input/Create a fulfilment to authorize a service _ Healthanea Documentation.html', open_encoding = 'utf-8')\n",
    "documents = loader.load()\n",
    "documents"
   ]
  },
  {
   "cell_type": "code",
   "execution_count": 4,
   "metadata": {},
   "outputs": [
    {
     "data": {
      "text/plain": [
       "[Document(page_content=\"Create a fulfilment to authorize a service | Healthanea Documentation \\n\\n\\n\\n\\n\\n\\n\\n\\n\\n\\n\\n\\n\\n\\n\\n\\n\\n\\n\\n\\n\\n\\n\\n\\n\\n\\n\\n\\n\\n\\n\\n\\n\\n\\n\\n\\n\\n\\n\\n\\n\\n\\n\\n\\n\\n\\n\\n\\n\\n© DHP SAS\\n Version: 160211a-facd43ecf \\n\\n\\n\\n\\n\\n\\n\\n\\n\\n\\n\\n\\n\\n\\n\\n\\n\\n\\n\\nCreate a fulfilment to authorize a service\\nSee also the API specification (Swagger) and Error management\\n\\nSee also:\\n\\nConcept: Service fulfilment\\nAPI documentation: The Fulfilment API\\n\\nProducer Channel role: You use the Fulfilment API to create a fulfilment instance with which you authorize Service Providers to offer healthcare services to end-users.\\nService role: You use the Fulfilment API to register actions related to your service's lifecycle within the context of the fulfilment instance. These can include actions performed by the end-user but also the read and write actions applied to the end-user's health data.\\nThe Fulfilment API tracks the actions performed by the health services and the end-user, thus recording a customer health journey.\\n \\nIn this article:\\n\\nFulfilment API flow\\n1 - Create a fulfilment instance\\n2 - Add an action to the fulfilment instance\\n3 - Add context information to the fulfilment instance\\n4 - Get the properties of the fulfilment instance\\n5 - Get the payload of an action in a fulfilment instance\\nViewing requests in the API explorer\\n\\nFulfilment API flow\\nThe following diagram illustrates the flow of Fulfilment API usage:\\n \\n1 - Create a fulfilment instance\\n\\n\\nRole:\\nProducer Channel\\n\\n\\nHealthanea API:\\nFulfilment\\n\\n\\nMandatory/optional:\\nMandatory\\n\\n\\nIf you do not have one already, get a token for the Producer Channel role (see Authentication & tokens).\\nUse a POST on the fulfilment/instance endpoint to create a fulfilment instance:\\nPOST https://api-nxt.dhpbuild.com/api/dhp/v1/fulfilment/instance\\n\\nYou must include a request body that contains:\", metadata={'source': '../../Data/input/Create a fulfilment to authorize a service _ Healthanea Documentation.html', 'title': 'Create a fulfilment to authorize a service | Healthanea Documentation '}),\n",
       " Document(page_content='You must include a request body that contains:\\n\\nA journeyId: A session identifier, managed by the Producer Channel, used to track one or more service executions for a single end-user during a single healthcare journey. (The maximum allowed length of the journeyId is 100 characters.)\\nA dhpUserId: The identifier of the end-user on the Healthanea platform.\\nA serviceId: The identifier of a specific health service to authorize to interact with the Healthanea platform.\\n(Optional) A deviceId: The identifier of the end-user\\'s device associated with the health journey. (The maximum allowed length of the deviceId is 100 characters.)\\n(Optional) A startDate: The start date and time of the fulfilment. This is used for asynchronous sending of fulfilment data to the Healthanea platform. See Sending service fulfilment data asynchronously.\\n\\nAn example of a request body is the following:\\n{\\n  \"journeyId\": \"{{journeyId}}\",\\n  \"dhpUserId\": \"{{dhpUserId}}\",\\n  \"serviceId\": \"{{serviceId}}\",\\n  \"deviceId\": \"{{deviceId}}\",\\n  \"startDate\": \"{{startDate}}\"\\n}\\n\\nIf the request is successful, Healthanea returns a 201 HTTP status code and a response body containing the new fulfilment ID:\\n{\\n   \"fulfilmentId\": \"{{fulfilmentId}}\"\\n}\\n\\n2 - Add an action to the fulfilment instance\\n\\n\\nRoles:\\nProducer Channel & Service\\n\\n\\nHealthanea API:\\nFulfilment\\n\\n\\nMandatory/optional:\\nOptional\\n\\n\\nIf you do not have one already, get a token for the Producer Channel role (see Authentication & tokens).\\nUse a POST on the fulfilment/instance/{fulfilmentId}/actions endpoint to add an action to the instance for the Healthanea platform to track:\\nPOST https://api-nxt.dhpbuild.com/api/dhp/v1/fulfilment/instance/{fulfilmentId}/actions', metadata={'source': '../../Data/input/Create a fulfilment to authorize a service _ Healthanea Documentation.html', 'title': 'Create a fulfilment to authorize a service | Healthanea Documentation '}),\n",
       " Document(page_content='In the request URL, you must include a fulfilmentId, the identifier of the fulfilment instance to which to add the action.\\nYou must also include a request body that contains:\\n\\nAn actionTypeId: The identifier of the action type. The action type ID indicates the action \"template\"; when one is added to the fulfilment instance, a specific instance of the action is recorded.\\n(Optional) A payload: Any data associated with the action, structured as a valid JSON object.\\n(Optional) An actionDate: The date of the action; this is used for asynchronous sending of fulfilment data to the Healthanea platform. See Sending service fulfilment data asynchronously.\\n\\nAlthough actions are not mandatory, they give you a detailed view of how fulfilments progress. The more actions you push, the more you can record what the end-user is doing.\\nAn example of a request body is the following:\\n{\\n  \"actionTypeId\": \"{{actionTypeId}}\",\\n  \"payload\":\\n  {\\n    \"key0\": \"string-value\",\\n    \"key1\": 12\\n  },\\n  \"actionDate\": \"{{actionDate}}\"\\n}\\n\\nIf the request is successful, Healthanea returns a 204 HTTP status code to confirm that the action was added to the instance.\\n3 - Add context properties to the fulfilment instance\\n\\n\\nRoles:\\nProducer Channel & Service\\n\\n\\nHealthanea API:\\nFulfilment\\n\\n\\nMandatory/optional:\\nOptional\\n\\n\\nIf you do not have one already, get a token for the Producer Channel role (see Authentication & tokens).\\nUse a POST on the fulfilment/instance/{fulfilmentId}/context endpoint to add further information to the fulfilment instance to provide additional context:\\nPOST https://api-nxt.dhpbuild.com/api/dhp/v1/fulfilment/instance/{fulfilmentId}/context', metadata={'source': '../../Data/input/Create a fulfilment to authorize a service _ Healthanea Documentation.html', 'title': 'Create a fulfilment to authorize a service | Healthanea Documentation '}),\n",
       " Document(page_content='In the request URL, you must include a fulfilmentId, the identifier of the fulfilment instance to which to add the context properties.\\nYou must also include a request body that contains a properties object containing one or more key-value pairs of name and value.  An example of a request body is the following:\\n{\\n  \"properties\": [\\n    {\\n      \"name\": \"{{name1}}\",\\n      \"value\": \"{{value}}\"\\n    },\\n    {\\n      \"name\": \"{{name2}}\",\\n      \"value\": \"{{value}}\"\\n    }\\n  ]\\n}\\n\\nIf the request is successful, Healthanea returns a 202 HTTP status code confirming that the context information was added to the fulfilment instance.\\n4 - Get the properties of the fulfilment instance\\n\\n\\nRoles:\\nProducer Channel & Service\\n\\n\\nHealthanea API:\\nFulfilment\\n\\n\\nMandatory/optional:\\nOptional\\n\\n\\nIf you do not have one already, get a token for the Producer Channel role (see Authentication & tokens).\\nUse a GET on the fulfilment/instance/{fulfilmentId} endpoint to read the properties of an existing fulfilment instance:\\nGET https://api-nxt.dhpbuild.com/api/dhp/v1/fulfilment/instance/{fulfilmentId}', metadata={'source': '../../Data/input/Create a fulfilment to authorize a service _ Healthanea Documentation.html', 'title': 'Create a fulfilment to authorize a service | Healthanea Documentation '}),\n",
       " Document(page_content='In the request URL, you must include a fulfilmentId, the identifier of the fulfilment instance whose properties you want to retrieve.\\nIf the request is successful, Healthanea returns a 200 HTTP status code with a response payload containing the properties of the fulfilment instance in the following format:\\n{\\n  \"id\": \"{{id}}\",\\n  \"producerId\": \"{{producerId}}\",\\n  \"producerChannelId\": \"{{producerChannelId}}\",\\n  \"serviceId\": \"{{serviceId}}\",\\n  \"serviceProviderId\": \"{{serviceProviderId}}\",\\n  \"journeyId\": \"{{journeyId}}\",\\n  \"deviceId\": \"{{deviceId}}\",\\n  \"dhpUserId\": \"{{dhpUserId}}\",\\n  \"timestamp\": \"{{timestamp}}\",\\n  \"expirationTimestamp\": \"{{expirationTimestamp}}\",\\n  \"dataExchangeCompletionActionTypeIds\": [\\n    \"{{dataExchangeCompletionActionTypeId}}\"\\n  ]\\n}\\n\\n5 - Get the payload of an action in a fulfilment instance\\n\\n\\nRoles:\\nProducer Channel & Service\\n\\n\\nHealthanea API:\\nFulfilment\\n\\n\\nMandatory/optional:\\nOptional\\n\\n\\nIf you do not have one already, get a token for the Producer Channel role (see Authentication & tokens).\\nUse a GET on the fulfilment/instance/{fulfilmentId}/actions endpoint to get the payload of a specific action in a fulfilment instance:\\nGET https://api-nxt.dhpbuild.com/api/dhp/v1/fulfilment/instance/{fulfilmentId}/actions/{actionTypeId}\\n\\nIn the request URL, you must include:\\n\\nA fulfilmentId: The identifier of the fulfilment instance from which you want to get the action payload.\\nAn actionTypeId: The identifier of the action type.\\n\\nIf the request is successful, Healthanea returns a 200 HTTP status code and a response body containing the details of the action payload for the last action in the fulfilment having the specified action type ID:\\n{\\n  \"actionId\": \"{{actionId}}\",\\n  \"actionTypeId\": \"{{actionTypeId}}\",\\n  \"timeStamp\": \"{{timeStamp}}\",\\n  \"payload\": {}\\n}', metadata={'source': '../../Data/input/Create a fulfilment to authorize a service _ Healthanea Documentation.html', 'title': 'Create a fulfilment to authorize a service | Healthanea Documentation '}),\n",
       " Document(page_content=\"Viewing requests in the API explorer\\nIn the Healthanea portal's API explorer, you can review all the API requests that you executed above. This is useful to check that the operations completed successfully.\\n\\n\\n\\n\\n\\n\\n\\n\\n\\n\\nIn This Article\\n\\n\\n\\n\\n\\n\\n\\n\\n\\n\\nSearch Results for\", metadata={'source': '../../Data/input/Create a fulfilment to authorize a service _ Healthanea Documentation.html', 'title': 'Create a fulfilment to authorize a service | Healthanea Documentation '})]"
      ]
     },
     "execution_count": 4,
     "metadata": {},
     "output_type": "execute_result"
    }
   ],
   "source": [
    "splitter = RecursiveCharacterTextSplitter(chunk_size = 1800)\n",
    "chunks = splitter.split_documents(documents)\n",
    "chunks"
   ]
  },
  {
   "cell_type": "code",
   "execution_count": 5,
   "metadata": {},
   "outputs": [
    {
     "name": "stderr",
     "output_type": "stream",
     "text": [
      "c:\\Users\\ebt1023\\AppData\\Local\\Programs\\Python\\Python312\\Lib\\site-packages\\huggingface_hub\\file_download.py:1132: FutureWarning: `resume_download` is deprecated and will be removed in version 1.0.0. Downloads always resume when possible. If you want to force a new download, use `force_download=True`.\n",
      "  warnings.warn(\n"
     ]
    }
   ],
   "source": [
    "embeddings = embedding('BAAI/bge-small-en-v1.5')"
   ]
  },
  {
   "cell_type": "code",
   "execution_count": 6,
   "metadata": {},
   "outputs": [],
   "source": [
    "vector = FAISS.from_documents(chunks, embeddings)\n",
    "retirever = vector.as_retriever(search_kwargs = {\"k\": 5})"
   ]
  },
  {
   "cell_type": "code",
   "execution_count": 8,
   "metadata": {},
   "outputs": [],
   "source": [
    "question = \"How can I get the properties of a fulfilment?\"\n",
    "llm = ChatGroq(temperature = 0)\n",
    "retriever_from_llm = MultiQueryRetriever.from_llm(\n",
    "    retriever = vector.as_retriever(), llm = llm\n",
    ")"
   ]
  },
  {
   "cell_type": "code",
   "execution_count": 9,
   "metadata": {},
   "outputs": [],
   "source": [
    "# Set logging for the queries\n",
    "import logging\n",
    "\n",
    "logging.basicConfig()\n",
    "logging.getLogger(\"langchain.retrievers.multi_query\").setLevel(logging.INFO)"
   ]
  },
  {
   "cell_type": "code",
   "execution_count": 10,
   "metadata": {},
   "outputs": [
    {
     "name": "stderr",
     "output_type": "stream",
     "text": [
      "INFO:langchain.retrievers.multi_query:Generated queries: ['1. \"What are the attributes of a given fulfillment?\"', '2. \"Could you provide the details of a specific fulfillment\\'s properties?\"', '3. \"How can I retrieve the information related to a particular fulfillment?\"']\n"
     ]
    },
    {
     "data": {
      "text/plain": [
       "5"
      ]
     },
     "execution_count": 10,
     "metadata": {},
     "output_type": "execute_result"
    }
   ],
   "source": [
    "unique_docs = retriever_from_llm.invoke(question)\n",
    "len(unique_docs)"
   ]
  },
  {
   "cell_type": "code",
   "execution_count": 11,
   "metadata": {},
   "outputs": [
    {
     "data": {
      "text/plain": [
       "[Document(page_content='In the request URL, you must include a fulfilmentId, the identifier of the fulfilment instance to which to add the context properties.\\nYou must also include a request body that contains a properties object containing one or more key-value pairs of name and value.  An example of a request body is the following:\\n{\\n  \"properties\": [\\n    {\\n      \"name\": \"{{name1}}\",\\n      \"value\": \"{{value}}\"\\n    },\\n    {\\n      \"name\": \"{{name2}}\",\\n      \"value\": \"{{value}}\"\\n    }\\n  ]\\n}\\n\\nIf the request is successful, Healthanea returns a 202 HTTP status code confirming that the context information was added to the fulfilment instance.\\n4 - Get the properties of the fulfilment instance\\n\\n\\nRoles:\\nProducer Channel & Service\\n\\n\\nHealthanea API:\\nFulfilment\\n\\n\\nMandatory/optional:\\nOptional\\n\\n\\nIf you do not have one already, get a token for the Producer Channel role (see Authentication & tokens).\\nUse a GET on the fulfilment/instance/{fulfilmentId} endpoint to read the properties of an existing fulfilment instance:\\nGET https://api-nxt.dhpbuild.com/api/dhp/v1/fulfilment/instance/{fulfilmentId}', metadata={'source': '../../Data/input/Create a fulfilment to authorize a service _ Healthanea Documentation.html', 'title': 'Create a fulfilment to authorize a service | Healthanea Documentation '}),\n",
       " Document(page_content='In the request URL, you must include a fulfilmentId, the identifier of the fulfilment instance to which to add the action.\\nYou must also include a request body that contains:\\n\\nAn actionTypeId: The identifier of the action type. The action type ID indicates the action \"template\"; when one is added to the fulfilment instance, a specific instance of the action is recorded.\\n(Optional) A payload: Any data associated with the action, structured as a valid JSON object.\\n(Optional) An actionDate: The date of the action; this is used for asynchronous sending of fulfilment data to the Healthanea platform. See Sending service fulfilment data asynchronously.\\n\\nAlthough actions are not mandatory, they give you a detailed view of how fulfilments progress. The more actions you push, the more you can record what the end-user is doing.\\nAn example of a request body is the following:\\n{\\n  \"actionTypeId\": \"{{actionTypeId}}\",\\n  \"payload\":\\n  {\\n    \"key0\": \"string-value\",\\n    \"key1\": 12\\n  },\\n  \"actionDate\": \"{{actionDate}}\"\\n}\\n\\nIf the request is successful, Healthanea returns a 204 HTTP status code to confirm that the action was added to the instance.\\n3 - Add context properties to the fulfilment instance\\n\\n\\nRoles:\\nProducer Channel & Service\\n\\n\\nHealthanea API:\\nFulfilment\\n\\n\\nMandatory/optional:\\nOptional\\n\\n\\nIf you do not have one already, get a token for the Producer Channel role (see Authentication & tokens).\\nUse a POST on the fulfilment/instance/{fulfilmentId}/context endpoint to add further information to the fulfilment instance to provide additional context:\\nPOST https://api-nxt.dhpbuild.com/api/dhp/v1/fulfilment/instance/{fulfilmentId}/context', metadata={'source': '../../Data/input/Create a fulfilment to authorize a service _ Healthanea Documentation.html', 'title': 'Create a fulfilment to authorize a service | Healthanea Documentation '}),\n",
       " Document(page_content=\"Create a fulfilment to authorize a service | Healthanea Documentation \\n\\n\\n\\n\\n\\n\\n\\n\\n\\n\\n\\n\\n\\n\\n\\n\\n\\n\\n\\n\\n\\n\\n\\n\\n\\n\\n\\n\\n\\n\\n\\n\\n\\n\\n\\n\\n\\n\\n\\n\\n\\n\\n\\n\\n\\n\\n\\n\\n\\n© DHP SAS\\n Version: 160211a-facd43ecf \\n\\n\\n\\n\\n\\n\\n\\n\\n\\n\\n\\n\\n\\n\\n\\n\\n\\n\\n\\nCreate a fulfilment to authorize a service\\nSee also the API specification (Swagger) and Error management\\n\\nSee also:\\n\\nConcept: Service fulfilment\\nAPI documentation: The Fulfilment API\\n\\nProducer Channel role: You use the Fulfilment API to create a fulfilment instance with which you authorize Service Providers to offer healthcare services to end-users.\\nService role: You use the Fulfilment API to register actions related to your service's lifecycle within the context of the fulfilment instance. These can include actions performed by the end-user but also the read and write actions applied to the end-user's health data.\\nThe Fulfilment API tracks the actions performed by the health services and the end-user, thus recording a customer health journey.\\n \\nIn this article:\\n\\nFulfilment API flow\\n1 - Create a fulfilment instance\\n2 - Add an action to the fulfilment instance\\n3 - Add context information to the fulfilment instance\\n4 - Get the properties of the fulfilment instance\\n5 - Get the payload of an action in a fulfilment instance\\nViewing requests in the API explorer\\n\\nFulfilment API flow\\nThe following diagram illustrates the flow of Fulfilment API usage:\\n \\n1 - Create a fulfilment instance\\n\\n\\nRole:\\nProducer Channel\\n\\n\\nHealthanea API:\\nFulfilment\\n\\n\\nMandatory/optional:\\nMandatory\\n\\n\\nIf you do not have one already, get a token for the Producer Channel role (see Authentication & tokens).\\nUse a POST on the fulfilment/instance endpoint to create a fulfilment instance:\\nPOST https://api-nxt.dhpbuild.com/api/dhp/v1/fulfilment/instance\\n\\nYou must include a request body that contains:\", metadata={'source': '../../Data/input/Create a fulfilment to authorize a service _ Healthanea Documentation.html', 'title': 'Create a fulfilment to authorize a service | Healthanea Documentation '}),\n",
       " Document(page_content='In the request URL, you must include a fulfilmentId, the identifier of the fulfilment instance whose properties you want to retrieve.\\nIf the request is successful, Healthanea returns a 200 HTTP status code with a response payload containing the properties of the fulfilment instance in the following format:\\n{\\n  \"id\": \"{{id}}\",\\n  \"producerId\": \"{{producerId}}\",\\n  \"producerChannelId\": \"{{producerChannelId}}\",\\n  \"serviceId\": \"{{serviceId}}\",\\n  \"serviceProviderId\": \"{{serviceProviderId}}\",\\n  \"journeyId\": \"{{journeyId}}\",\\n  \"deviceId\": \"{{deviceId}}\",\\n  \"dhpUserId\": \"{{dhpUserId}}\",\\n  \"timestamp\": \"{{timestamp}}\",\\n  \"expirationTimestamp\": \"{{expirationTimestamp}}\",\\n  \"dataExchangeCompletionActionTypeIds\": [\\n    \"{{dataExchangeCompletionActionTypeId}}\"\\n  ]\\n}\\n\\n5 - Get the payload of an action in a fulfilment instance\\n\\n\\nRoles:\\nProducer Channel & Service\\n\\n\\nHealthanea API:\\nFulfilment\\n\\n\\nMandatory/optional:\\nOptional\\n\\n\\nIf you do not have one already, get a token for the Producer Channel role (see Authentication & tokens).\\nUse a GET on the fulfilment/instance/{fulfilmentId}/actions endpoint to get the payload of a specific action in a fulfilment instance:\\nGET https://api-nxt.dhpbuild.com/api/dhp/v1/fulfilment/instance/{fulfilmentId}/actions/{actionTypeId}\\n\\nIn the request URL, you must include:\\n\\nA fulfilmentId: The identifier of the fulfilment instance from which you want to get the action payload.\\nAn actionTypeId: The identifier of the action type.\\n\\nIf the request is successful, Healthanea returns a 200 HTTP status code and a response body containing the details of the action payload for the last action in the fulfilment having the specified action type ID:\\n{\\n  \"actionId\": \"{{actionId}}\",\\n  \"actionTypeId\": \"{{actionTypeId}}\",\\n  \"timeStamp\": \"{{timeStamp}}\",\\n  \"payload\": {}\\n}', metadata={'source': '../../Data/input/Create a fulfilment to authorize a service _ Healthanea Documentation.html', 'title': 'Create a fulfilment to authorize a service | Healthanea Documentation '}),\n",
       " Document(page_content='You must include a request body that contains:\\n\\nA journeyId: A session identifier, managed by the Producer Channel, used to track one or more service executions for a single end-user during a single healthcare journey. (The maximum allowed length of the journeyId is 100 characters.)\\nA dhpUserId: The identifier of the end-user on the Healthanea platform.\\nA serviceId: The identifier of a specific health service to authorize to interact with the Healthanea platform.\\n(Optional) A deviceId: The identifier of the end-user\\'s device associated with the health journey. (The maximum allowed length of the deviceId is 100 characters.)\\n(Optional) A startDate: The start date and time of the fulfilment. This is used for asynchronous sending of fulfilment data to the Healthanea platform. See Sending service fulfilment data asynchronously.\\n\\nAn example of a request body is the following:\\n{\\n  \"journeyId\": \"{{journeyId}}\",\\n  \"dhpUserId\": \"{{dhpUserId}}\",\\n  \"serviceId\": \"{{serviceId}}\",\\n  \"deviceId\": \"{{deviceId}}\",\\n  \"startDate\": \"{{startDate}}\"\\n}\\n\\nIf the request is successful, Healthanea returns a 201 HTTP status code and a response body containing the new fulfilment ID:\\n{\\n   \"fulfilmentId\": \"{{fulfilmentId}}\"\\n}\\n\\n2 - Add an action to the fulfilment instance\\n\\n\\nRoles:\\nProducer Channel & Service\\n\\n\\nHealthanea API:\\nFulfilment\\n\\n\\nMandatory/optional:\\nOptional\\n\\n\\nIf you do not have one already, get a token for the Producer Channel role (see Authentication & tokens).\\nUse a POST on the fulfilment/instance/{fulfilmentId}/actions endpoint to add an action to the instance for the Healthanea platform to track:\\nPOST https://api-nxt.dhpbuild.com/api/dhp/v1/fulfilment/instance/{fulfilmentId}/actions', metadata={'source': '../../Data/input/Create a fulfilment to authorize a service _ Healthanea Documentation.html', 'title': 'Create a fulfilment to authorize a service | Healthanea Documentation '})]"
      ]
     },
     "execution_count": 11,
     "metadata": {},
     "output_type": "execute_result"
    }
   ],
   "source": [
    "unique_docs"
   ]
  },
  {
   "cell_type": "markdown",
   "metadata": {},
   "source": [
    "#### Reranker Methods"
   ]
  },
  {
   "cell_type": "code",
   "execution_count": 12,
   "metadata": {},
   "outputs": [
    {
     "data": {
      "text/plain": [
       "[Document(page_content='In the request URL, you must include a fulfilmentId, the identifier of the fulfilment instance to which to add the context properties.\\nYou must also include a request body that contains a properties object containing one or more key-value pairs of name and value.  An example of a request body is the following:\\n{\\n  \"properties\": [\\n    {\\n      \"name\": \"{{name1}}\",\\n      \"value\": \"{{value}}\"\\n    },\\n    {\\n      \"name\": \"{{name2}}\",\\n      \"value\": \"{{value}}\"\\n    }\\n  ]\\n}\\n\\nIf the request is successful, Healthanea returns a 202 HTTP status code confirming that the context information was added to the fulfilment instance.\\n4 - Get the properties of the fulfilment instance\\n\\n\\nRoles:\\nProducer Channel & Service\\n\\n\\nHealthanea API:\\nFulfilment\\n\\n\\nMandatory/optional:\\nOptional\\n\\n\\nIf you do not have one already, get a token for the Producer Channel role (see Authentication & tokens).\\nUse a GET on the fulfilment/instance/{fulfilmentId} endpoint to read the properties of an existing fulfilment instance:\\nGET https://api-nxt.dhpbuild.com/api/dhp/v1/fulfilment/instance/{fulfilmentId}', metadata={'source': '../../Data/input/Create a fulfilment to authorize a service _ Healthanea Documentation.html', 'title': 'Create a fulfilment to authorize a service | Healthanea Documentation '}),\n",
       " Document(page_content=\"Create a fulfilment to authorize a service | Healthanea Documentation \\n\\n\\n\\n\\n\\n\\n\\n\\n\\n\\n\\n\\n\\n\\n\\n\\n\\n\\n\\n\\n\\n\\n\\n\\n\\n\\n\\n\\n\\n\\n\\n\\n\\n\\n\\n\\n\\n\\n\\n\\n\\n\\n\\n\\n\\n\\n\\n\\n\\n© DHP SAS\\n Version: 160211a-facd43ecf \\n\\n\\n\\n\\n\\n\\n\\n\\n\\n\\n\\n\\n\\n\\n\\n\\n\\n\\n\\nCreate a fulfilment to authorize a service\\nSee also the API specification (Swagger) and Error management\\n\\nSee also:\\n\\nConcept: Service fulfilment\\nAPI documentation: The Fulfilment API\\n\\nProducer Channel role: You use the Fulfilment API to create a fulfilment instance with which you authorize Service Providers to offer healthcare services to end-users.\\nService role: You use the Fulfilment API to register actions related to your service's lifecycle within the context of the fulfilment instance. These can include actions performed by the end-user but also the read and write actions applied to the end-user's health data.\\nThe Fulfilment API tracks the actions performed by the health services and the end-user, thus recording a customer health journey.\\n \\nIn this article:\\n\\nFulfilment API flow\\n1 - Create a fulfilment instance\\n2 - Add an action to the fulfilment instance\\n3 - Add context information to the fulfilment instance\\n4 - Get the properties of the fulfilment instance\\n5 - Get the payload of an action in a fulfilment instance\\nViewing requests in the API explorer\\n\\nFulfilment API flow\\nThe following diagram illustrates the flow of Fulfilment API usage:\\n \\n1 - Create a fulfilment instance\\n\\n\\nRole:\\nProducer Channel\\n\\n\\nHealthanea API:\\nFulfilment\\n\\n\\nMandatory/optional:\\nMandatory\\n\\n\\nIf you do not have one already, get a token for the Producer Channel role (see Authentication & tokens).\\nUse a POST on the fulfilment/instance endpoint to create a fulfilment instance:\\nPOST https://api-nxt.dhpbuild.com/api/dhp/v1/fulfilment/instance\\n\\nYou must include a request body that contains:\", metadata={'source': '../../Data/input/Create a fulfilment to authorize a service _ Healthanea Documentation.html', 'title': 'Create a fulfilment to authorize a service | Healthanea Documentation '}),\n",
       " Document(page_content='You must include a request body that contains:\\n\\nA journeyId: A session identifier, managed by the Producer Channel, used to track one or more service executions for a single end-user during a single healthcare journey. (The maximum allowed length of the journeyId is 100 characters.)\\nA dhpUserId: The identifier of the end-user on the Healthanea platform.\\nA serviceId: The identifier of a specific health service to authorize to interact with the Healthanea platform.\\n(Optional) A deviceId: The identifier of the end-user\\'s device associated with the health journey. (The maximum allowed length of the deviceId is 100 characters.)\\n(Optional) A startDate: The start date and time of the fulfilment. This is used for asynchronous sending of fulfilment data to the Healthanea platform. See Sending service fulfilment data asynchronously.\\n\\nAn example of a request body is the following:\\n{\\n  \"journeyId\": \"{{journeyId}}\",\\n  \"dhpUserId\": \"{{dhpUserId}}\",\\n  \"serviceId\": \"{{serviceId}}\",\\n  \"deviceId\": \"{{deviceId}}\",\\n  \"startDate\": \"{{startDate}}\"\\n}\\n\\nIf the request is successful, Healthanea returns a 201 HTTP status code and a response body containing the new fulfilment ID:\\n{\\n   \"fulfilmentId\": \"{{fulfilmentId}}\"\\n}\\n\\n2 - Add an action to the fulfilment instance\\n\\n\\nRoles:\\nProducer Channel & Service\\n\\n\\nHealthanea API:\\nFulfilment\\n\\n\\nMandatory/optional:\\nOptional\\n\\n\\nIf you do not have one already, get a token for the Producer Channel role (see Authentication & tokens).\\nUse a POST on the fulfilment/instance/{fulfilmentId}/actions endpoint to add an action to the instance for the Healthanea platform to track:\\nPOST https://api-nxt.dhpbuild.com/api/dhp/v1/fulfilment/instance/{fulfilmentId}/actions', metadata={'source': '../../Data/input/Create a fulfilment to authorize a service _ Healthanea Documentation.html', 'title': 'Create a fulfilment to authorize a service | Healthanea Documentation '}),\n",
       " Document(page_content='In the request URL, you must include a fulfilmentId, the identifier of the fulfilment instance whose properties you want to retrieve.\\nIf the request is successful, Healthanea returns a 200 HTTP status code with a response payload containing the properties of the fulfilment instance in the following format:\\n{\\n  \"id\": \"{{id}}\",\\n  \"producerId\": \"{{producerId}}\",\\n  \"producerChannelId\": \"{{producerChannelId}}\",\\n  \"serviceId\": \"{{serviceId}}\",\\n  \"serviceProviderId\": \"{{serviceProviderId}}\",\\n  \"journeyId\": \"{{journeyId}}\",\\n  \"deviceId\": \"{{deviceId}}\",\\n  \"dhpUserId\": \"{{dhpUserId}}\",\\n  \"timestamp\": \"{{timestamp}}\",\\n  \"expirationTimestamp\": \"{{expirationTimestamp}}\",\\n  \"dataExchangeCompletionActionTypeIds\": [\\n    \"{{dataExchangeCompletionActionTypeId}}\"\\n  ]\\n}\\n\\n5 - Get the payload of an action in a fulfilment instance\\n\\n\\nRoles:\\nProducer Channel & Service\\n\\n\\nHealthanea API:\\nFulfilment\\n\\n\\nMandatory/optional:\\nOptional\\n\\n\\nIf you do not have one already, get a token for the Producer Channel role (see Authentication & tokens).\\nUse a GET on the fulfilment/instance/{fulfilmentId}/actions endpoint to get the payload of a specific action in a fulfilment instance:\\nGET https://api-nxt.dhpbuild.com/api/dhp/v1/fulfilment/instance/{fulfilmentId}/actions/{actionTypeId}\\n\\nIn the request URL, you must include:\\n\\nA fulfilmentId: The identifier of the fulfilment instance from which you want to get the action payload.\\nAn actionTypeId: The identifier of the action type.\\n\\nIf the request is successful, Healthanea returns a 200 HTTP status code and a response body containing the details of the action payload for the last action in the fulfilment having the specified action type ID:\\n{\\n  \"actionId\": \"{{actionId}}\",\\n  \"actionTypeId\": \"{{actionTypeId}}\",\\n  \"timeStamp\": \"{{timeStamp}}\",\\n  \"payload\": {}\\n}', metadata={'source': '../../Data/input/Create a fulfilment to authorize a service _ Healthanea Documentation.html', 'title': 'Create a fulfilment to authorize a service | Healthanea Documentation '}),\n",
       " Document(page_content='In the request URL, you must include a fulfilmentId, the identifier of the fulfilment instance to which to add the action.\\nYou must also include a request body that contains:\\n\\nAn actionTypeId: The identifier of the action type. The action type ID indicates the action \"template\"; when one is added to the fulfilment instance, a specific instance of the action is recorded.\\n(Optional) A payload: Any data associated with the action, structured as a valid JSON object.\\n(Optional) An actionDate: The date of the action; this is used for asynchronous sending of fulfilment data to the Healthanea platform. See Sending service fulfilment data asynchronously.\\n\\nAlthough actions are not mandatory, they give you a detailed view of how fulfilments progress. The more actions you push, the more you can record what the end-user is doing.\\nAn example of a request body is the following:\\n{\\n  \"actionTypeId\": \"{{actionTypeId}}\",\\n  \"payload\":\\n  {\\n    \"key0\": \"string-value\",\\n    \"key1\": 12\\n  },\\n  \"actionDate\": \"{{actionDate}}\"\\n}\\n\\nIf the request is successful, Healthanea returns a 204 HTTP status code to confirm that the action was added to the instance.\\n3 - Add context properties to the fulfilment instance\\n\\n\\nRoles:\\nProducer Channel & Service\\n\\n\\nHealthanea API:\\nFulfilment\\n\\n\\nMandatory/optional:\\nOptional\\n\\n\\nIf you do not have one already, get a token for the Producer Channel role (see Authentication & tokens).\\nUse a POST on the fulfilment/instance/{fulfilmentId}/context endpoint to add further information to the fulfilment instance to provide additional context:\\nPOST https://api-nxt.dhpbuild.com/api/dhp/v1/fulfilment/instance/{fulfilmentId}/context', metadata={'source': '../../Data/input/Create a fulfilment to authorize a service _ Healthanea Documentation.html', 'title': 'Create a fulfilment to authorize a service | Healthanea Documentation '})]"
      ]
     },
     "execution_count": 12,
     "metadata": {},
     "output_type": "execute_result"
    }
   ],
   "source": [
    "from langchain_community.document_transformers import LongContextReorder\n",
    "\n",
    "reordering = LongContextReorder()\n",
    "reordered_docs = reordering.transform_documents(unique_docs)\n",
    "reordered_docs"
   ]
  },
  {
   "cell_type": "code",
   "execution_count": 16,
   "metadata": {},
   "outputs": [],
   "source": [
    "from langchain.retrievers.contextual_compression import ContextualCompressionRetriever\n",
    "from langchain_community.document_compressors import JinaRerank\n",
    "#from langchain_community.document_compressors.rankllm_rerank import RankLLMRerank\n",
    "\n",
    "os.environ['JINA_API_KEY'] = 'jina_eba96965c69b4fd894f57138b933d4195yirZCsUcmqh6-7DeqSi1Uu9DaHg'"
   ]
  },
  {
   "cell_type": "code",
   "execution_count": 17,
   "metadata": {},
   "outputs": [
    {
     "name": "stderr",
     "output_type": "stream",
     "text": [
      "c:\\Users\\ebt1023\\AppData\\Local\\Programs\\Python\\Python312\\Lib\\site-packages\\langchain_core\\_api\\deprecation.py:119: LangChainDeprecationWarning: The method `BaseRetriever.get_relevant_documents` was deprecated in langchain-core 0.1.46 and will be removed in 0.3.0. Use invoke instead.\n",
      "  warn_deprecated(\n"
     ]
    },
    {
     "data": {
      "text/plain": [
       "[Document(page_content='In the request URL, you must include a fulfilmentId, the identifier of the fulfilment instance to which to add the context properties.\\nYou must also include a request body that contains a properties object containing one or more key-value pairs of name and value.  An example of a request body is the following:\\n{\\n  \"properties\": [\\n    {\\n      \"name\": \"{{name1}}\",\\n      \"value\": \"{{value}}\"\\n    },\\n    {\\n      \"name\": \"{{name2}}\",\\n      \"value\": \"{{value}}\"\\n    }\\n  ]\\n}\\n\\nIf the request is successful, Healthanea returns a 202 HTTP status code confirming that the context information was added to the fulfilment instance.\\n4 - Get the properties of the fulfilment instance\\n\\n\\nRoles:\\nProducer Channel & Service\\n\\n\\nHealthanea API:\\nFulfilment\\n\\n\\nMandatory/optional:\\nOptional\\n\\n\\nIf you do not have one already, get a token for the Producer Channel role (see Authentication & tokens).\\nUse a GET on the fulfilment/instance/{fulfilmentId} endpoint to read the properties of an existing fulfilment instance:\\nGET https://api-nxt.dhpbuild.com/api/dhp/v1/fulfilment/instance/{fulfilmentId}', metadata={'source': '../../Data/input/Create a fulfilment to authorize a service _ Healthanea Documentation.html', 'title': 'Create a fulfilment to authorize a service | Healthanea Documentation ', 'relevance_score': 0.773387610912323}),\n",
       " Document(page_content='In the request URL, you must include a fulfilmentId, the identifier of the fulfilment instance whose properties you want to retrieve.\\nIf the request is successful, Healthanea returns a 200 HTTP status code with a response payload containing the properties of the fulfilment instance in the following format:\\n{\\n  \"id\": \"{{id}}\",\\n  \"producerId\": \"{{producerId}}\",\\n  \"producerChannelId\": \"{{producerChannelId}}\",\\n  \"serviceId\": \"{{serviceId}}\",\\n  \"serviceProviderId\": \"{{serviceProviderId}}\",\\n  \"journeyId\": \"{{journeyId}}\",\\n  \"deviceId\": \"{{deviceId}}\",\\n  \"dhpUserId\": \"{{dhpUserId}}\",\\n  \"timestamp\": \"{{timestamp}}\",\\n  \"expirationTimestamp\": \"{{expirationTimestamp}}\",\\n  \"dataExchangeCompletionActionTypeIds\": [\\n    \"{{dataExchangeCompletionActionTypeId}}\"\\n  ]\\n}\\n\\n5 - Get the payload of an action in a fulfilment instance\\n\\n\\nRoles:\\nProducer Channel & Service\\n\\n\\nHealthanea API:\\nFulfilment\\n\\n\\nMandatory/optional:\\nOptional\\n\\n\\nIf you do not have one already, get a token for the Producer Channel role (see Authentication & tokens).\\nUse a GET on the fulfilment/instance/{fulfilmentId}/actions endpoint to get the payload of a specific action in a fulfilment instance:\\nGET https://api-nxt.dhpbuild.com/api/dhp/v1/fulfilment/instance/{fulfilmentId}/actions/{actionTypeId}\\n\\nIn the request URL, you must include:\\n\\nA fulfilmentId: The identifier of the fulfilment instance from which you want to get the action payload.\\nAn actionTypeId: The identifier of the action type.\\n\\nIf the request is successful, Healthanea returns a 200 HTTP status code and a response body containing the details of the action payload for the last action in the fulfilment having the specified action type ID:\\n{\\n  \"actionId\": \"{{actionId}}\",\\n  \"actionTypeId\": \"{{actionTypeId}}\",\\n  \"timeStamp\": \"{{timeStamp}}\",\\n  \"payload\": {}\\n}', metadata={'source': '../../Data/input/Create a fulfilment to authorize a service _ Healthanea Documentation.html', 'title': 'Create a fulfilment to authorize a service | Healthanea Documentation ', 'relevance_score': 0.7171109318733215}),\n",
       " Document(page_content=\"Create a fulfilment to authorize a service | Healthanea Documentation \\n\\n\\n\\n\\n\\n\\n\\n\\n\\n\\n\\n\\n\\n\\n\\n\\n\\n\\n\\n\\n\\n\\n\\n\\n\\n\\n\\n\\n\\n\\n\\n\\n\\n\\n\\n\\n\\n\\n\\n\\n\\n\\n\\n\\n\\n\\n\\n\\n\\n© DHP SAS\\n Version: 160211a-facd43ecf \\n\\n\\n\\n\\n\\n\\n\\n\\n\\n\\n\\n\\n\\n\\n\\n\\n\\n\\n\\nCreate a fulfilment to authorize a service\\nSee also the API specification (Swagger) and Error management\\n\\nSee also:\\n\\nConcept: Service fulfilment\\nAPI documentation: The Fulfilment API\\n\\nProducer Channel role: You use the Fulfilment API to create a fulfilment instance with which you authorize Service Providers to offer healthcare services to end-users.\\nService role: You use the Fulfilment API to register actions related to your service's lifecycle within the context of the fulfilment instance. These can include actions performed by the end-user but also the read and write actions applied to the end-user's health data.\\nThe Fulfilment API tracks the actions performed by the health services and the end-user, thus recording a customer health journey.\\n \\nIn this article:\\n\\nFulfilment API flow\\n1 - Create a fulfilment instance\\n2 - Add an action to the fulfilment instance\\n3 - Add context information to the fulfilment instance\\n4 - Get the properties of the fulfilment instance\\n5 - Get the payload of an action in a fulfilment instance\\nViewing requests in the API explorer\\n\\nFulfilment API flow\\nThe following diagram illustrates the flow of Fulfilment API usage:\\n \\n1 - Create a fulfilment instance\\n\\n\\nRole:\\nProducer Channel\\n\\n\\nHealthanea API:\\nFulfilment\\n\\n\\nMandatory/optional:\\nMandatory\\n\\n\\nIf you do not have one already, get a token for the Producer Channel role (see Authentication & tokens).\\nUse a POST on the fulfilment/instance endpoint to create a fulfilment instance:\\nPOST https://api-nxt.dhpbuild.com/api/dhp/v1/fulfilment/instance\\n\\nYou must include a request body that contains:\", metadata={'source': '../../Data/input/Create a fulfilment to authorize a service _ Healthanea Documentation.html', 'title': 'Create a fulfilment to authorize a service | Healthanea Documentation ', 'relevance_score': 0.5301604866981506}),\n",
       " Document(page_content='In the request URL, you must include a fulfilmentId, the identifier of the fulfilment instance to which to add the action.\\nYou must also include a request body that contains:\\n\\nAn actionTypeId: The identifier of the action type. The action type ID indicates the action \"template\"; when one is added to the fulfilment instance, a specific instance of the action is recorded.\\n(Optional) A payload: Any data associated with the action, structured as a valid JSON object.\\n(Optional) An actionDate: The date of the action; this is used for asynchronous sending of fulfilment data to the Healthanea platform. See Sending service fulfilment data asynchronously.\\n\\nAlthough actions are not mandatory, they give you a detailed view of how fulfilments progress. The more actions you push, the more you can record what the end-user is doing.\\nAn example of a request body is the following:\\n{\\n  \"actionTypeId\": \"{{actionTypeId}}\",\\n  \"payload\":\\n  {\\n    \"key0\": \"string-value\",\\n    \"key1\": 12\\n  },\\n  \"actionDate\": \"{{actionDate}}\"\\n}\\n\\nIf the request is successful, Healthanea returns a 204 HTTP status code to confirm that the action was added to the instance.\\n3 - Add context properties to the fulfilment instance\\n\\n\\nRoles:\\nProducer Channel & Service\\n\\n\\nHealthanea API:\\nFulfilment\\n\\n\\nMandatory/optional:\\nOptional\\n\\n\\nIf you do not have one already, get a token for the Producer Channel role (see Authentication & tokens).\\nUse a POST on the fulfilment/instance/{fulfilmentId}/context endpoint to add further information to the fulfilment instance to provide additional context:\\nPOST https://api-nxt.dhpbuild.com/api/dhp/v1/fulfilment/instance/{fulfilmentId}/context', metadata={'source': '../../Data/input/Create a fulfilment to authorize a service _ Healthanea Documentation.html', 'title': 'Create a fulfilment to authorize a service | Healthanea Documentation ', 'relevance_score': 0.49540337920188904}),\n",
       " Document(page_content='You must include a request body that contains:\\n\\nA journeyId: A session identifier, managed by the Producer Channel, used to track one or more service executions for a single end-user during a single healthcare journey. (The maximum allowed length of the journeyId is 100 characters.)\\nA dhpUserId: The identifier of the end-user on the Healthanea platform.\\nA serviceId: The identifier of a specific health service to authorize to interact with the Healthanea platform.\\n(Optional) A deviceId: The identifier of the end-user\\'s device associated with the health journey. (The maximum allowed length of the deviceId is 100 characters.)\\n(Optional) A startDate: The start date and time of the fulfilment. This is used for asynchronous sending of fulfilment data to the Healthanea platform. See Sending service fulfilment data asynchronously.\\n\\nAn example of a request body is the following:\\n{\\n  \"journeyId\": \"{{journeyId}}\",\\n  \"dhpUserId\": \"{{dhpUserId}}\",\\n  \"serviceId\": \"{{serviceId}}\",\\n  \"deviceId\": \"{{deviceId}}\",\\n  \"startDate\": \"{{startDate}}\"\\n}\\n\\nIf the request is successful, Healthanea returns a 201 HTTP status code and a response body containing the new fulfilment ID:\\n{\\n   \"fulfilmentId\": \"{{fulfilmentId}}\"\\n}\\n\\n2 - Add an action to the fulfilment instance\\n\\n\\nRoles:\\nProducer Channel & Service\\n\\n\\nHealthanea API:\\nFulfilment\\n\\n\\nMandatory/optional:\\nOptional\\n\\n\\nIf you do not have one already, get a token for the Producer Channel role (see Authentication & tokens).\\nUse a POST on the fulfilment/instance/{fulfilmentId}/actions endpoint to add an action to the instance for the Healthanea platform to track:\\nPOST https://api-nxt.dhpbuild.com/api/dhp/v1/fulfilment/instance/{fulfilmentId}/actions', metadata={'source': '../../Data/input/Create a fulfilment to authorize a service _ Healthanea Documentation.html', 'title': 'Create a fulfilment to authorize a service | Healthanea Documentation ', 'relevance_score': 0.2483518421649933})]"
      ]
     },
     "execution_count": 17,
     "metadata": {},
     "output_type": "execute_result"
    }
   ],
   "source": [
    "compressor = JinaRerank(top_n = 5)\n",
    "compression_retriever = ContextualCompressionRetriever(\n",
    "    base_compressor = compressor, base_retriever = retirever, \n",
    ")\n",
    "\n",
    "compressed_docs = compression_retriever.invoke(\n",
    "    \"How can I get the properties of a fulfilment?\"\n",
    ")\n",
    "compressed_docs"
   ]
  },
  {
   "cell_type": "code",
   "execution_count": 18,
   "metadata": {},
   "outputs": [],
   "source": [
    "from langchain.retrievers.document_compressors import FlashrankRerank\n",
    "\n",
    "compressor = FlashrankRerank(model = 'ms-marco-MiniLM-L-12-v2', top_n = 5)\n",
    "compression_retriever = ContextualCompressionRetriever(\n",
    "    base_compressor = compressor, base_retriever = retirever\n",
    ")\n"
   ]
  },
  {
   "cell_type": "code",
   "execution_count": 15,
   "metadata": {},
   "outputs": [
    {
     "name": "stdout",
     "output_type": "stream",
     "text": [
      "Running pairwise ranking..\n",
      "CPU times: total: 7.31 s\n",
      "Wall time: 1.92 s\n"
     ]
    },
    {
     "data": {
      "text/plain": [
       "[Document(page_content='In the request URL, you must include a fulfilmentId, the identifier of the fulfilment instance whose properties you want to retrieve.\\nIf the request is successful, Healthanea returns a 200 HTTP status code with a response payload containing the properties of the fulfilment instance in the following format:\\n{\\n  \"id\": \"{{id}}\",\\n  \"producerId\": \"{{producerId}}\",\\n  \"producerChannelId\": \"{{producerChannelId}}\",\\n  \"serviceId\": \"{{serviceId}}\",\\n  \"serviceProviderId\": \"{{serviceProviderId}}\",\\n  \"journeyId\": \"{{journeyId}}\",\\n  \"deviceId\": \"{{deviceId}}\",\\n  \"dhpUserId\": \"{{dhpUserId}}\",\\n  \"timestamp\": \"{{timestamp}}\",\\n  \"expirationTimestamp\": \"{{expirationTimestamp}}\",\\n  \"dataExchangeCompletionActionTypeIds\": [\\n    \"{{dataExchangeCompletionActionTypeId}}\"\\n  ]\\n}\\n\\n5 - Get the payload of an action in a fulfilment instance\\n\\n\\nRoles:\\nProducer Channel & Service\\n\\n\\nHealthanea API:\\nFulfilment\\n\\n\\nMandatory/optional:\\nOptional\\n\\n\\nIf you do not have one already, get a token for the Producer Channel role (see Authentication & tokens).\\nUse a GET on the fulfilment/instance/{fulfilmentId}/actions endpoint to get the payload of a specific action in a fulfilment instance:\\nGET https://api-nxt.dhpbuild.com/api/dhp/v1/fulfilment/instance/{fulfilmentId}/actions/{actionTypeId}\\n\\nIn the request URL, you must include:\\n\\nA fulfilmentId: The identifier of the fulfilment instance from which you want to get the action payload.\\nAn actionTypeId: The identifier of the action type.\\n\\nIf the request is successful, Healthanea returns a 200 HTTP status code and a response body containing the details of the action payload for the last action in the fulfilment having the specified action type ID:\\n{\\n  \"actionId\": \"{{actionId}}\",\\n  \"actionTypeId\": \"{{actionTypeId}}\",\\n  \"timeStamp\": \"{{timeStamp}}\",\\n  \"payload\": {}\\n}', metadata={'source': '../../Data/input/Create a fulfilment to authorize a service _ Healthanea Documentation.html', 'title': 'Create a fulfilment to authorize a service | Healthanea Documentation ', 'relevance_score': 0.9989718198776245}),\n",
       " Document(page_content='In the request URL, you must include a fulfilmentId, the identifier of the fulfilment instance to which to add the context properties.\\nYou must also include a request body that contains a properties object containing one or more key-value pairs of name and value.  An example of a request body is the following:\\n{\\n  \"properties\": [\\n    {\\n      \"name\": \"{{name1}}\",\\n      \"value\": \"{{value}}\"\\n    },\\n    {\\n      \"name\": \"{{name2}}\",\\n      \"value\": \"{{value}}\"\\n    }\\n  ]\\n}\\n\\nIf the request is successful, Healthanea returns a 202 HTTP status code confirming that the context information was added to the fulfilment instance.\\n4 - Get the properties of the fulfilment instance\\n\\n\\nRoles:\\nProducer Channel & Service\\n\\n\\nHealthanea API:\\nFulfilment\\n\\n\\nMandatory/optional:\\nOptional\\n\\n\\nIf you do not have one already, get a token for the Producer Channel role (see Authentication & tokens).\\nUse a GET on the fulfilment/instance/{fulfilmentId} endpoint to read the properties of an existing fulfilment instance:\\nGET https://api-nxt.dhpbuild.com/api/dhp/v1/fulfilment/instance/{fulfilmentId}', metadata={'source': '../../Data/input/Create a fulfilment to authorize a service _ Healthanea Documentation.html', 'title': 'Create a fulfilment to authorize a service | Healthanea Documentation ', 'relevance_score': 0.9985984563827515}),\n",
       " Document(page_content=\"Create a fulfilment to authorize a service | Healthanea Documentation \\n\\n\\n\\n\\n\\n\\n\\n\\n\\n\\n\\n\\n\\n\\n\\n\\n\\n\\n\\n\\n\\n\\n\\n\\n\\n\\n\\n\\n\\n\\n\\n\\n\\n\\n\\n\\n\\n\\n\\n\\n\\n\\n\\n\\n\\n\\n\\n\\n\\n© DHP SAS\\n Version: 160211a-facd43ecf \\n\\n\\n\\n\\n\\n\\n\\n\\n\\n\\n\\n\\n\\n\\n\\n\\n\\n\\n\\nCreate a fulfilment to authorize a service\\nSee also the API specification (Swagger) and Error management\\n\\nSee also:\\n\\nConcept: Service fulfilment\\nAPI documentation: The Fulfilment API\\n\\nProducer Channel role: You use the Fulfilment API to create a fulfilment instance with which you authorize Service Providers to offer healthcare services to end-users.\\nService role: You use the Fulfilment API to register actions related to your service's lifecycle within the context of the fulfilment instance. These can include actions performed by the end-user but also the read and write actions applied to the end-user's health data.\\nThe Fulfilment API tracks the actions performed by the health services and the end-user, thus recording a customer health journey.\\n \\nIn this article:\\n\\nFulfilment API flow\\n1 - Create a fulfilment instance\\n2 - Add an action to the fulfilment instance\\n3 - Add context information to the fulfilment instance\\n4 - Get the properties of the fulfilment instance\\n5 - Get the payload of an action in a fulfilment instance\\nViewing requests in the API explorer\\n\\nFulfilment API flow\\nThe following diagram illustrates the flow of Fulfilment API usage:\\n \\n1 - Create a fulfilment instance\\n\\n\\nRole:\\nProducer Channel\\n\\n\\nHealthanea API:\\nFulfilment\\n\\n\\nMandatory/optional:\\nMandatory\\n\\n\\nIf you do not have one already, get a token for the Producer Channel role (see Authentication & tokens).\\nUse a POST on the fulfilment/instance endpoint to create a fulfilment instance:\\nPOST https://api-nxt.dhpbuild.com/api/dhp/v1/fulfilment/instance\\n\\nYou must include a request body that contains:\", metadata={'source': '../../Data/input/Create a fulfilment to authorize a service _ Healthanea Documentation.html', 'title': 'Create a fulfilment to authorize a service | Healthanea Documentation ', 'relevance_score': 0.9888821244239807}),\n",
       " Document(page_content='In the request URL, you must include a fulfilmentId, the identifier of the fulfilment instance to which to add the action.\\nYou must also include a request body that contains:\\n\\nAn actionTypeId: The identifier of the action type. The action type ID indicates the action \"template\"; when one is added to the fulfilment instance, a specific instance of the action is recorded.\\n(Optional) A payload: Any data associated with the action, structured as a valid JSON object.\\n(Optional) An actionDate: The date of the action; this is used for asynchronous sending of fulfilment data to the Healthanea platform. See Sending service fulfilment data asynchronously.\\n\\nAlthough actions are not mandatory, they give you a detailed view of how fulfilments progress. The more actions you push, the more you can record what the end-user is doing.\\nAn example of a request body is the following:\\n{\\n  \"actionTypeId\": \"{{actionTypeId}}\",\\n  \"payload\":\\n  {\\n    \"key0\": \"string-value\",\\n    \"key1\": 12\\n  },\\n  \"actionDate\": \"{{actionDate}}\"\\n}\\n\\nIf the request is successful, Healthanea returns a 204 HTTP status code to confirm that the action was added to the instance.\\n3 - Add context properties to the fulfilment instance\\n\\n\\nRoles:\\nProducer Channel & Service\\n\\n\\nHealthanea API:\\nFulfilment\\n\\n\\nMandatory/optional:\\nOptional\\n\\n\\nIf you do not have one already, get a token for the Producer Channel role (see Authentication & tokens).\\nUse a POST on the fulfilment/instance/{fulfilmentId}/context endpoint to add further information to the fulfilment instance to provide additional context:\\nPOST https://api-nxt.dhpbuild.com/api/dhp/v1/fulfilment/instance/{fulfilmentId}/context', metadata={'source': '../../Data/input/Create a fulfilment to authorize a service _ Healthanea Documentation.html', 'title': 'Create a fulfilment to authorize a service | Healthanea Documentation ', 'relevance_score': 0.9868147373199463}),\n",
       " Document(page_content='You must include a request body that contains:\\n\\nA journeyId: A session identifier, managed by the Producer Channel, used to track one or more service executions for a single end-user during a single healthcare journey. (The maximum allowed length of the journeyId is 100 characters.)\\nA dhpUserId: The identifier of the end-user on the Healthanea platform.\\nA serviceId: The identifier of a specific health service to authorize to interact with the Healthanea platform.\\n(Optional) A deviceId: The identifier of the end-user\\'s device associated with the health journey. (The maximum allowed length of the deviceId is 100 characters.)\\n(Optional) A startDate: The start date and time of the fulfilment. This is used for asynchronous sending of fulfilment data to the Healthanea platform. See Sending service fulfilment data asynchronously.\\n\\nAn example of a request body is the following:\\n{\\n  \"journeyId\": \"{{journeyId}}\",\\n  \"dhpUserId\": \"{{dhpUserId}}\",\\n  \"serviceId\": \"{{serviceId}}\",\\n  \"deviceId\": \"{{deviceId}}\",\\n  \"startDate\": \"{{startDate}}\"\\n}\\n\\nIf the request is successful, Healthanea returns a 201 HTTP status code and a response body containing the new fulfilment ID:\\n{\\n   \"fulfilmentId\": \"{{fulfilmentId}}\"\\n}\\n\\n2 - Add an action to the fulfilment instance\\n\\n\\nRoles:\\nProducer Channel & Service\\n\\n\\nHealthanea API:\\nFulfilment\\n\\n\\nMandatory/optional:\\nOptional\\n\\n\\nIf you do not have one already, get a token for the Producer Channel role (see Authentication & tokens).\\nUse a POST on the fulfilment/instance/{fulfilmentId}/actions endpoint to add an action to the instance for the Healthanea platform to track:\\nPOST https://api-nxt.dhpbuild.com/api/dhp/v1/fulfilment/instance/{fulfilmentId}/actions', metadata={'source': '../../Data/input/Create a fulfilment to authorize a service _ Healthanea Documentation.html', 'title': 'Create a fulfilment to authorize a service | Healthanea Documentation ', 'relevance_score': 0.5026636123657227})]"
      ]
     },
     "execution_count": 15,
     "metadata": {},
     "output_type": "execute_result"
    }
   ],
   "source": [
    "%%time\n",
    "reranked_docs = compression_retriever.invoke('How can I get the properties of a fulfilment?')\n",
    "reranked_docs"
   ]
  },
  {
   "cell_type": "code",
   "execution_count": null,
   "metadata": {},
   "outputs": [],
   "source": []
  }
 ],
 "metadata": {
  "kernelspec": {
   "display_name": "Python 3",
   "language": "python",
   "name": "python3"
  },
  "language_info": {
   "codemirror_mode": {
    "name": "ipython",
    "version": 3
   },
   "file_extension": ".py",
   "mimetype": "text/x-python",
   "name": "python",
   "nbconvert_exporter": "python",
   "pygments_lexer": "ipython3",
   "version": "3.12.3"
  }
 },
 "nbformat": 4,
 "nbformat_minor": 2
}
